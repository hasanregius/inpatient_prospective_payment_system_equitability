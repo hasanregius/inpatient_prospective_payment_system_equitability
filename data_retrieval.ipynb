{
 "cells": [
  {
   "cell_type": "markdown",
   "metadata": {},
   "source": [
    "# Data Retrieval for Inpatient Prospective Payment System (IPPS) \n",
    "\n",
    "The API information can be accessed through this [link](https://data.cms.gov/Medicare-Inpatient/Inpatient-Prospective-Payment-System-IPPS-Provider/97k6-zzx3)\n",
    "\n",
    "<b>Question 1:</b> Can we infer meaningful correlations between the number of providers and the number of procedures done on average provider charge?\n",
    "\n",
    "<b>Question 2:</b> Medicare and patients don't pay the full amount charged by the provider. Does this differ by state?"
   ]
  },
  {
   "cell_type": "markdown",
   "metadata": {},
   "source": [
    "----\n",
    "## Installation of Required Package(s)"
   ]
  },
  {
   "cell_type": "code",
   "execution_count": 144,
   "metadata": {
    "collapsed": true
   },
   "outputs": [],
   "source": [
    "# Installing the package sodapy, important for retrieval using the API's detailed method\n",
    "import sys\n",
    "!{sys.executable} -m pip install sodapy\n",
    "import warnings\n",
    "warnings.filterwarnings('ignore')"
   ]
  },
  {
   "cell_type": "markdown",
   "metadata": {},
   "source": [
    "----\n",
    "## Setup and Data Retrieval\n",
    "\n",
    "### Configuring Matplotlib and Calling Required Packages"
   ]
  },
  {
   "cell_type": "code",
   "execution_count": 135,
   "metadata": {
    "collapsed": true
   },
   "outputs": [],
   "source": [
    "# Configuring matplotlib\n",
    "%matplotlib inline\n",
    "%config InlineBackend.print_figure_kwargs={'bbox_inches':None}\n",
    "\n",
    "# Required packages\n",
    "import numpy as np\n",
    "import pandas as pd\n",
    "import matplotlib.pyplot as plt\n",
    "from sodapy import Socrata"
   ]
  },
  {
   "cell_type": "markdown",
   "metadata": {},
   "source": [
    "\n",
    "### Data Retrieval and Data Frame Setup"
   ]
  },
  {
   "cell_type": "code",
   "execution_count": 143,
   "metadata": {
    "scrolled": true
   },
   "outputs": [
    {
     "data": {
      "text/html": [
       "<div>\n",
       "<style>\n",
       "    .dataframe thead tr:only-child th {\n",
       "        text-align: right;\n",
       "    }\n",
       "\n",
       "    .dataframe thead th {\n",
       "        text-align: left;\n",
       "    }\n",
       "\n",
       "    .dataframe tbody tr th {\n",
       "        vertical-align: top;\n",
       "    }\n",
       "</style>\n",
       "<table border=\"1\" class=\"dataframe\">\n",
       "  <thead>\n",
       "    <tr style=\"text-align: right;\">\n",
       "      <th></th>\n",
       "      <th>average_covered_charges</th>\n",
       "      <th>average_medicare_payments</th>\n",
       "      <th>average_medicare_payments_2</th>\n",
       "      <th>drg_definition</th>\n",
       "      <th>hospital_referral_region_description</th>\n",
       "      <th>provider_city</th>\n",
       "      <th>provider_id</th>\n",
       "      <th>provider_name</th>\n",
       "      <th>provider_state</th>\n",
       "      <th>provider_street_address</th>\n",
       "      <th>provider_zip_code</th>\n",
       "      <th>total_discharges</th>\n",
       "    </tr>\n",
       "  </thead>\n",
       "  <tbody>\n",
       "    <tr>\n",
       "      <th>0</th>\n",
       "      <td>32963.07</td>\n",
       "      <td>5777.24</td>\n",
       "      <td>4763.73</td>\n",
       "      <td>039 - EXTRACRANIAL PROCEDURES W/O CC/MCC</td>\n",
       "      <td>AL - Dothan</td>\n",
       "      <td>DOTHAN</td>\n",
       "      <td>10001</td>\n",
       "      <td>SOUTHEAST ALABAMA MEDICAL CENTER</td>\n",
       "      <td>AL</td>\n",
       "      <td>1108 ROSS CLARK CIRCLE</td>\n",
       "      <td>36301</td>\n",
       "      <td>91</td>\n",
       "    </tr>\n",
       "    <tr>\n",
       "      <th>1</th>\n",
       "      <td>15131.85</td>\n",
       "      <td>5787.57</td>\n",
       "      <td>4976.71</td>\n",
       "      <td>039 - EXTRACRANIAL PROCEDURES W/O CC/MCC</td>\n",
       "      <td>AL - Birmingham</td>\n",
       "      <td>BOAZ</td>\n",
       "      <td>10005</td>\n",
       "      <td>MARSHALL MEDICAL CENTER SOUTH</td>\n",
       "      <td>AL</td>\n",
       "      <td>2505 U S HIGHWAY 431 NORTH</td>\n",
       "      <td>35957</td>\n",
       "      <td>14</td>\n",
       "    </tr>\n",
       "    <tr>\n",
       "      <th>2</th>\n",
       "      <td>37560.37</td>\n",
       "      <td>5434.95</td>\n",
       "      <td>4453.79</td>\n",
       "      <td>039 - EXTRACRANIAL PROCEDURES W/O CC/MCC</td>\n",
       "      <td>AL - Birmingham</td>\n",
       "      <td>FLORENCE</td>\n",
       "      <td>10006</td>\n",
       "      <td>ELIZA COFFEE MEMORIAL HOSPITAL</td>\n",
       "      <td>AL</td>\n",
       "      <td>205 MARENGO STREET</td>\n",
       "      <td>35631</td>\n",
       "      <td>24</td>\n",
       "    </tr>\n",
       "    <tr>\n",
       "      <th>3</th>\n",
       "      <td>13998.28</td>\n",
       "      <td>5417.56</td>\n",
       "      <td>4129.16</td>\n",
       "      <td>039 - EXTRACRANIAL PROCEDURES W/O CC/MCC</td>\n",
       "      <td>AL - Birmingham</td>\n",
       "      <td>BIRMINGHAM</td>\n",
       "      <td>10011</td>\n",
       "      <td>ST VINCENT'S EAST</td>\n",
       "      <td>AL</td>\n",
       "      <td>50 MEDICAL PARK EAST DRIVE</td>\n",
       "      <td>35235</td>\n",
       "      <td>25</td>\n",
       "    </tr>\n",
       "    <tr>\n",
       "      <th>4</th>\n",
       "      <td>31633.27</td>\n",
       "      <td>5658.33</td>\n",
       "      <td>4851.44</td>\n",
       "      <td>039 - EXTRACRANIAL PROCEDURES W/O CC/MCC</td>\n",
       "      <td>AL - Birmingham</td>\n",
       "      <td>ALABASTER</td>\n",
       "      <td>10016</td>\n",
       "      <td>SHELBY BAPTIST MEDICAL CENTER</td>\n",
       "      <td>AL</td>\n",
       "      <td>1000 FIRST STREET NORTH</td>\n",
       "      <td>35007</td>\n",
       "      <td>18</td>\n",
       "    </tr>\n",
       "  </tbody>\n",
       "</table>\n",
       "</div>"
      ],
      "text/plain": [
       "  average_covered_charges average_medicare_payments  \\\n",
       "0                32963.07                   5777.24   \n",
       "1                15131.85                   5787.57   \n",
       "2                37560.37                   5434.95   \n",
       "3                13998.28                   5417.56   \n",
       "4                31633.27                   5658.33   \n",
       "\n",
       "  average_medicare_payments_2                            drg_definition  \\\n",
       "0                     4763.73  039 - EXTRACRANIAL PROCEDURES W/O CC/MCC   \n",
       "1                     4976.71  039 - EXTRACRANIAL PROCEDURES W/O CC/MCC   \n",
       "2                     4453.79  039 - EXTRACRANIAL PROCEDURES W/O CC/MCC   \n",
       "3                     4129.16  039 - EXTRACRANIAL PROCEDURES W/O CC/MCC   \n",
       "4                     4851.44  039 - EXTRACRANIAL PROCEDURES W/O CC/MCC   \n",
       "\n",
       "  hospital_referral_region_description provider_city provider_id  \\\n",
       "0                          AL - Dothan        DOTHAN       10001   \n",
       "1                      AL - Birmingham          BOAZ       10005   \n",
       "2                      AL - Birmingham      FLORENCE       10006   \n",
       "3                      AL - Birmingham    BIRMINGHAM       10011   \n",
       "4                      AL - Birmingham     ALABASTER       10016   \n",
       "\n",
       "                      provider_name provider_state  \\\n",
       "0  SOUTHEAST ALABAMA MEDICAL CENTER             AL   \n",
       "1     MARSHALL MEDICAL CENTER SOUTH             AL   \n",
       "2    ELIZA COFFEE MEMORIAL HOSPITAL             AL   \n",
       "3                 ST VINCENT'S EAST             AL   \n",
       "4     SHELBY BAPTIST MEDICAL CENTER             AL   \n",
       "\n",
       "      provider_street_address provider_zip_code total_discharges  \n",
       "0      1108 ROSS CLARK CIRCLE             36301               91  \n",
       "1  2505 U S HIGHWAY 431 NORTH             35957               14  \n",
       "2          205 MARENGO STREET             35631               24  \n",
       "3  50 MEDICAL PARK EAST DRIVE             35235               25  \n",
       "4     1000 FIRST STREET NORTH             35007               18  "
      ]
     },
     "execution_count": 143,
     "metadata": {},
     "output_type": "execute_result"
    }
   ],
   "source": [
    "# The API link\n",
    "link = \"https://data.cms.gov/resource/ehrv-m9r6.json\"\n",
    "\n",
    "# The app token and client\n",
    "key = \"oBbcgRhXZS4dqtTJVyz6zQujv\"\n",
    "client = Socrata(\"data.cms.gov\", key)\n",
    "\n",
    "# Retrieving all rows of data available returned as JSON from API \n",
    "# and converted to Python list of dictionaries by sodapy and then data frame\n",
    "results_df = pd.DataFrame.from_records(client.get(\"ehrv-m9r6\", limit=163065))\n",
    "\n",
    "# Saving the data frame as .csv\n",
    "results_df.to_csv(\"raw_ipps.csv\")\n",
    "\n",
    "# Checking the head of the data frame\n",
    "results_df.head()"
   ]
  },
  {
   "cell_type": "markdown",
   "metadata": {},
   "source": [
    "---\n",
    "## Data Exploration\n",
    "\n",
    "### Creating a summary data frame grouped by state"
   ]
  },
  {
   "cell_type": "code",
   "execution_count": 149,
   "metadata": {
    "scrolled": true
   },
   "outputs": [
    {
     "data": {
      "text/html": [
       "<div>\n",
       "<style>\n",
       "    .dataframe thead tr:only-child th {\n",
       "        text-align: right;\n",
       "    }\n",
       "\n",
       "    .dataframe thead th {\n",
       "        text-align: left;\n",
       "    }\n",
       "\n",
       "    .dataframe tbody tr th {\n",
       "        vertical-align: top;\n",
       "    }\n",
       "</style>\n",
       "<table border=\"1\" class=\"dataframe\">\n",
       "  <thead>\n",
       "    <tr style=\"text-align: right;\">\n",
       "      <th></th>\n",
       "      <th>provider_state</th>\n",
       "      <th>average_covered_charges</th>\n",
       "      <th>total_discharges</th>\n",
       "      <th>provider_count</th>\n",
       "      <th>average_medicare_payments</th>\n",
       "    </tr>\n",
       "  </thead>\n",
       "  <tbody>\n",
       "    <tr>\n",
       "      <th>0</th>\n",
       "      <td>AK</td>\n",
       "      <td>40348.743333</td>\n",
       "      <td>6142</td>\n",
       "      <td>9</td>\n",
       "      <td>14572.391732</td>\n",
       "    </tr>\n",
       "    <tr>\n",
       "      <th>1</th>\n",
       "      <td>AL</td>\n",
       "      <td>31316.462074</td>\n",
       "      <td>142704</td>\n",
       "      <td>93</td>\n",
       "      <td>7568.232149</td>\n",
       "    </tr>\n",
       "    <tr>\n",
       "      <th>2</th>\n",
       "      <td>AR</td>\n",
       "      <td>26174.526246</td>\n",
       "      <td>86769</td>\n",
       "      <td>45</td>\n",
       "      <td>8019.248805</td>\n",
       "    </tr>\n",
       "    <tr>\n",
       "      <th>3</th>\n",
       "      <td>AZ</td>\n",
       "      <td>41200.063020</td>\n",
       "      <td>104604</td>\n",
       "      <td>61</td>\n",
       "      <td>10154.528211</td>\n",
       "    </tr>\n",
       "    <tr>\n",
       "      <th>4</th>\n",
       "      <td>CA</td>\n",
       "      <td>67508.616536</td>\n",
       "      <td>474979</td>\n",
       "      <td>295</td>\n",
       "      <td>12629.668472</td>\n",
       "    </tr>\n",
       "  </tbody>\n",
       "</table>\n",
       "</div>"
      ],
      "text/plain": [
       "  provider_state  average_covered_charges  total_discharges  provider_count  \\\n",
       "0             AK             40348.743333              6142               9   \n",
       "1             AL             31316.462074            142704              93   \n",
       "2             AR             26174.526246             86769              45   \n",
       "3             AZ             41200.063020            104604              61   \n",
       "4             CA             67508.616536            474979             295   \n",
       "\n",
       "   average_medicare_payments  \n",
       "0               14572.391732  \n",
       "1                7568.232149  \n",
       "2                8019.248805  \n",
       "3               10154.528211  \n",
       "4               12629.668472  "
      ]
     },
     "execution_count": 149,
     "metadata": {},
     "output_type": "execute_result"
    }
   ],
   "source": [
    "# Convert some variables to numeric, because somehow it wasn't\n",
    "results_df['average_covered_charges'] = pd.to_numeric(results_df['average_covered_charges'])\n",
    "results_df['total_discharges'] = pd.to_numeric(results_df['total_discharges'])\n",
    "results_df['average_medicare_payments'] = pd.to_numeric(results_df['average_medicare_payments'])\n",
    "\n",
    "# Group results by \"provider_state\" and \"drg_definition\"\n",
    "resultGB = results_df.groupby([\"provider_state\"]).agg({\"average_covered_charges\":[\"mean\"],\n",
    "                                                       \"total_discharges\":[\"sum\"],\n",
    "                                                       \"provider_name\":pd.Series.nunique,\n",
    "                                                       \"average_covered_charges\":['mean'],\n",
    "                                                       \"average_medicare_payments\":['mean']})\n",
    "# multilevel indexing is scheiße\n",
    "resultGB.columns.droplevel()\n",
    "resultGB.columns = [\"average_covered_charges\", \"total_discharges\", \"provider_count\", 'average_medicare_payments']\n",
    "resultGB.reset_index(inplace=True)\n",
    "resultGB.to_csv('summary_ipps.csv')\n",
    "resultGB.head()"
   ]
  },
  {
   "cell_type": "markdown",
   "metadata": {},
   "source": [
    "\n",
    "### Visualizing the number of providers in each state"
   ]
  },
  {
   "cell_type": "code",
   "execution_count": 150,
   "metadata": {
    "scrolled": true
   },
   "outputs": [
    {
     "data": {
      "image/png": "[encoded data removed]",
      "text/plain": [
       "<matplotlib.figure.Figure at 0x156cf0908>"
      ]
     },
     "metadata": {},
     "output_type": "display_data"
    }
   ],
   "source": [
    "# Setting the figure size\n",
    "plt.figure(figsize=(20,5))\n",
    "\n",
    "# Sorting manually \n",
    "resultGB = resultGB.sort_values(by='provider_count', ascending=False).reset_index(drop=True)\n",
    "\n",
    "# Drawing the plot\n",
    "plt.bar(resultGB.index, resultGB['provider_count'] , alpha=0.5, color=\"red\")\n",
    "plt.xticks(resultGB.index, resultGB['provider_state'])\n",
    "plt.ylabel('Number of Providers')\n",
    "plt.xlabel('State')\n",
    "plt.savefig('fig13.png')"
   ]
  },
  {
   "cell_type": "markdown",
   "metadata": {},
   "source": [
    "### Visualizing the number of procedures done by each state"
   ]
  },
  {
   "cell_type": "code",
   "execution_count": 151,
   "metadata": {
    "scrolled": true
   },
   "outputs": [
    {
     "data": {
      "image/png": "[encoded data removed]",
      "text/plain": [
       "<matplotlib.figure.Figure at 0x156de70f0>"
      ]
     },
     "metadata": {},
     "output_type": "display_data"
    }
   ],
   "source": [
    "# Setting the figure size\n",
    "plt.figure(figsize=(20,5))\n",
    "\n",
    "# Sorting manually \n",
    "resultGB = resultGB.sort_values(by='total_discharges', ascending=False).reset_index(drop=True)\n",
    "\n",
    "# Drawing the plot\n",
    "plt.bar(resultGB.index, resultGB['total_discharges'], alpha=0.5)\n",
    "plt.xticks(resultGB.index, resultGB['provider_state'])\n",
    "plt.ylabel('Number of Procedures Done')\n",
    "plt.xlabel('State')\n",
    "plt.savefig('fig14.png')"
   ]
  }
 ],
 "metadata": {
  "kernelspec": {
   "display_name": "Python 3",
   "language": "python",
   "name": "python3"
  },
  "language_info": {
   "codemirror_mode": {
    "name": "ipython",
    "version": 3
   },
   "file_extension": ".py",
   "mimetype": "text/x-python",
   "name": "python",
   "nbconvert_exporter": "python",
   "pygments_lexer": "ipython3",
   "version": "3.6.3"
  }
 },
 "nbformat": 4,
 "nbformat_minor": 2
}
