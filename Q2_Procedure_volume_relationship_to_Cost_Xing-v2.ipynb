{
 "cells": [
  {
   "cell_type": "markdown",
   "metadata": {},
   "source": [
    "### Step 1: Retrieving the dataset"
   ]
  },
  {
   "cell_type": "code",
   "execution_count": 1,
   "metadata": {},
   "outputs": [],
   "source": [
    "# The API link\n",
    "link = \"https://data.cms.gov/resource/ehrv-m9r6.json\"\n",
    "\n",
    "# The app token\n",
    "key = \"oBbcgRhXZS4dqtTJVyz6zQujv\"\n",
    "\n",
    "# Code snippet for data retrieval using python, as provided by the API information page\n",
    "import pylab\n",
    "import warnings\n",
    "import numpy as np\n",
    "import pandas as pd\n",
    "import matplotlib.pyplot as plt\n",
    "from sodapy import Socrata\n",
    "warnings.filterwarnings('ignore')\n",
    "\n",
    "# Unauthenticated client only works with public data sets. Note 'None'\n",
    "# in place of application token, and no username or password:\n",
    "client = Socrata(\"data.cms.gov\", key)\n",
    "\n",
    "# Example authenticated client (needed for non-public datasets):\n",
    "# client = Socrata(data.cms.gov,\n",
    "#                  MyAppToken,\n",
    "#                  userame=\"user@example.com\",\n",
    "#                  password=\"AFakePassword\")\n",
    "\n",
    "# First 2000 results, returned as JSON from API / converted to Python list of\n",
    "# dictionaries by sodapy.\n",
    "results = client.get(\"ehrv-m9r6\", limit=163065)\n",
    "\n",
    "# Convert to pandas DataFrame\n",
    "results_df = pd.DataFrame.from_records(results)\n",
    "\n",
    "# Checking the head of the data frame\n",
    "#results_df.head()"
   ]
  },
  {
   "cell_type": "markdown",
   "metadata": {},
   "source": [
    "### Step 2: Determine Each State's Top Procedure"
   ]
  },
  {
   "cell_type": "code",
   "execution_count": 2,
   "metadata": {},
   "outputs": [
    {
     "data": {
      "text/html": [
       "<div>\n",
       "<style scoped>\n",
       "    .dataframe tbody tr th:only-of-type {\n",
       "        vertical-align: middle;\n",
       "    }\n",
       "\n",
       "    .dataframe tbody tr th {\n",
       "        vertical-align: top;\n",
       "    }\n",
       "\n",
       "    .dataframe thead th {\n",
       "        text-align: right;\n",
       "    }\n",
       "</style>\n",
       "<table border=\"1\" class=\"dataframe\">\n",
       "  <thead>\n",
       "    <tr style=\"text-align: right;\">\n",
       "      <th></th>\n",
       "      <th>State</th>\n",
       "      <th>Diagnosis</th>\n",
       "      <th>Provider Count</th>\n",
       "    </tr>\n",
       "  </thead>\n",
       "  <tbody>\n",
       "    <tr>\n",
       "      <th>0</th>\n",
       "      <td>CA</td>\n",
       "      <td>871 - SEPTICEMIA OR SEVERE SEPSIS W/O MV 96+ H...</td>\n",
       "      <td>273</td>\n",
       "    </tr>\n",
       "    <tr>\n",
       "      <th>1</th>\n",
       "      <td>TX</td>\n",
       "      <td>690 - KIDNEY &amp; URINARY TRACT INFECTIONS W/O MCC</td>\n",
       "      <td>255</td>\n",
       "    </tr>\n",
       "    <tr>\n",
       "      <th>2</th>\n",
       "      <td>FL</td>\n",
       "      <td>690 - KIDNEY &amp; URINARY TRACT INFECTIONS W/O MCC</td>\n",
       "      <td>165</td>\n",
       "    </tr>\n",
       "    <tr>\n",
       "      <th>3</th>\n",
       "      <td>NY</td>\n",
       "      <td>292 - HEART FAILURE &amp; SHOCK W CC</td>\n",
       "      <td>158</td>\n",
       "    </tr>\n",
       "    <tr>\n",
       "      <th>4</th>\n",
       "      <td>PA</td>\n",
       "      <td>292 - HEART FAILURE &amp; SHOCK W CC</td>\n",
       "      <td>139</td>\n",
       "    </tr>\n",
       "  </tbody>\n",
       "</table>\n",
       "</div>"
      ],
      "text/plain": [
       "  State                                          Diagnosis  Provider Count\n",
       "0    CA  871 - SEPTICEMIA OR SEVERE SEPSIS W/O MV 96+ H...             273\n",
       "1    TX    690 - KIDNEY & URINARY TRACT INFECTIONS W/O MCC             255\n",
       "2    FL    690 - KIDNEY & URINARY TRACT INFECTIONS W/O MCC             165\n",
       "3    NY                   292 - HEART FAILURE & SHOCK W CC             158\n",
       "4    PA                   292 - HEART FAILURE & SHOCK W CC             139"
      ]
     },
     "execution_count": 2,
     "metadata": {},
     "output_type": "execute_result"
    }
   ],
   "source": [
    "# Method 01 exclude tie's\n",
    "\n",
    "# Group results by \"provider_state\" and \"drg_definition\"\n",
    "resultGB = results_df.groupby([\"provider_state\",\"drg_definition\"])\n",
    "\n",
    "# Count number of provider_id and rename provider_id column\n",
    "resultGB = pd.DataFrame(resultGB[\"provider_id\"].count())\n",
    "resultGB.rename(columns = {\"provider_id\": \"Provider Count\"}, inplace = True)\n",
    "\n",
    "# Reset index and sort values by \"Provider Count\" descending\n",
    "resultGB = resultGB.reset_index()\n",
    "resultGB = resultGB.sort_values(by=\"Provider Count\", ascending=False)\n",
    "\n",
    "# Eliminating duplicates while keeping the first occurance by \"provider_state\"\n",
    "resultGB = resultGB.drop_duplicates(subset=\"provider_state\", keep=\"first\").reset_index(drop=True)\n",
    "resultGB = resultGB.rename(columns = {\"provider_state\":\"State\",\"drg_definition\":\"Diagnosis\"})\n",
    "\n",
    "# Determine the highest provider count for the top 5 States\n",
    "resultGB.head()"
   ]
  },
  {
   "cell_type": "markdown",
   "metadata": {},
   "source": [
    "### Step 3: Select the top 5 procedure count to determine the relationship between the number of procedures done for a drg code to cost.\n"
   ]
  },
  {
   "cell_type": "code",
   "execution_count": 3,
   "metadata": {},
   "outputs": [],
   "source": [
    "# Format dataframe column float values\n",
    "pd.options.display.float_format = '${:,.2f}'.format\n",
    "\n",
    "# Selecting certain columns from results_df\n",
    "proce_vs_cost = results_df[[\"provider_state\",\"drg_definition\",\"average_covered_charges\",\"total_discharges\"]]\n",
    "\n",
    "# Converting \"average_covered_charges\" and \"total_discharges\" to float and interger\n",
    "proce_vs_cost[\"average_covered_charges\"] = proce_vs_cost[\"average_covered_charges\"].apply(pd.to_numeric)\n",
    "proce_vs_cost[\"total_discharges\"] = proce_vs_cost[\"total_discharges\"].apply(pd.to_numeric)\n",
    "\n",
    "# Equation used to find \"Cost Per Discharge\"\n",
    "proce_vs_cost[\"Cost Per Discharge\"] = proce_vs_cost[\"average_covered_charges\"]/proce_vs_cost[\"total_discharges\"]\n",
    "proce_vs_cost = proce_vs_cost.rename(columns={\"provider_state\":\"State\", \"drg_definition\":\"Diagnosis\",\"average_covered_charges\":\"Provider's Average Charge Covered by Medicare\",\"total_discharges\":\"Total Discharges\"})"
   ]
  },
  {
   "cell_type": "markdown",
   "metadata": {},
   "source": [
    "##### Top No. 1 CA (871 - SEPTICEMIA OR SEVERE SEPSIS W/O MV 96+ HOURS W MCC)"
   ]
  },
  {
   "cell_type": "code",
   "execution_count": 4,
   "metadata": {},
   "outputs": [
    {
     "data": {
      "text/html": [
       "<div>\n",
       "<style scoped>\n",
       "    .dataframe tbody tr th:only-of-type {\n",
       "        vertical-align: middle;\n",
       "    }\n",
       "\n",
       "    .dataframe tbody tr th {\n",
       "        vertical-align: top;\n",
       "    }\n",
       "\n",
       "    .dataframe thead th {\n",
       "        text-align: right;\n",
       "    }\n",
       "</style>\n",
       "<table border=\"1\" class=\"dataframe\">\n",
       "  <thead>\n",
       "    <tr style=\"text-align: right;\">\n",
       "      <th></th>\n",
       "      <th>State</th>\n",
       "      <th>Diagnosis</th>\n",
       "      <th>Provider's Average Charge Covered by Medicare</th>\n",
       "      <th>Total Discharges</th>\n",
       "      <th>Cost Per Discharge</th>\n",
       "    </tr>\n",
       "  </thead>\n",
       "  <tbody>\n",
       "    <tr>\n",
       "      <th>0</th>\n",
       "      <td>CA</td>\n",
       "      <td>871 - SEPTICEMIA OR SEVERE SEPSIS W/O MV 96+ H...</td>\n",
       "      <td>$76,116.17</td>\n",
       "      <td>645</td>\n",
       "      <td>$118.01</td>\n",
       "    </tr>\n",
       "    <tr>\n",
       "      <th>1</th>\n",
       "      <td>CA</td>\n",
       "      <td>871 - SEPTICEMIA OR SEVERE SEPSIS W/O MV 96+ H...</td>\n",
       "      <td>$97,071.34</td>\n",
       "      <td>597</td>\n",
       "      <td>$162.60</td>\n",
       "    </tr>\n",
       "    <tr>\n",
       "      <th>2</th>\n",
       "      <td>CA</td>\n",
       "      <td>871 - SEPTICEMIA OR SEVERE SEPSIS W/O MV 96+ H...</td>\n",
       "      <td>$92,706.44</td>\n",
       "      <td>415</td>\n",
       "      <td>$223.39</td>\n",
       "    </tr>\n",
       "    <tr>\n",
       "      <th>3</th>\n",
       "      <td>CA</td>\n",
       "      <td>871 - SEPTICEMIA OR SEVERE SEPSIS W/O MV 96+ H...</td>\n",
       "      <td>$142,032.24</td>\n",
       "      <td>414</td>\n",
       "      <td>$343.07</td>\n",
       "    </tr>\n",
       "    <tr>\n",
       "      <th>4</th>\n",
       "      <td>CA</td>\n",
       "      <td>871 - SEPTICEMIA OR SEVERE SEPSIS W/O MV 96+ H...</td>\n",
       "      <td>$53,171.20</td>\n",
       "      <td>385</td>\n",
       "      <td>$138.11</td>\n",
       "    </tr>\n",
       "  </tbody>\n",
       "</table>\n",
       "</div>"
      ],
      "text/plain": [
       "  State                                          Diagnosis  \\\n",
       "0    CA  871 - SEPTICEMIA OR SEVERE SEPSIS W/O MV 96+ H...   \n",
       "1    CA  871 - SEPTICEMIA OR SEVERE SEPSIS W/O MV 96+ H...   \n",
       "2    CA  871 - SEPTICEMIA OR SEVERE SEPSIS W/O MV 96+ H...   \n",
       "3    CA  871 - SEPTICEMIA OR SEVERE SEPSIS W/O MV 96+ H...   \n",
       "4    CA  871 - SEPTICEMIA OR SEVERE SEPSIS W/O MV 96+ H...   \n",
       "\n",
       "   Provider's Average Charge Covered by Medicare  Total Discharges  \\\n",
       "0                                     $76,116.17               645   \n",
       "1                                     $97,071.34               597   \n",
       "2                                     $92,706.44               415   \n",
       "3                                    $142,032.24               414   \n",
       "4                                     $53,171.20               385   \n",
       "\n",
       "   Cost Per Discharge  \n",
       "0             $118.01  \n",
       "1             $162.60  \n",
       "2             $223.39  \n",
       "3             $343.07  \n",
       "4             $138.11  "
      ]
     },
     "execution_count": 4,
     "metadata": {},
     "output_type": "execute_result"
    }
   ],
   "source": [
    "# Extracting CA with Diagnosis 871 from DataFrame\n",
    "CA_state = proce_vs_cost[proce_vs_cost[\"State\"] == \"CA\"].reset_index(drop=True)\n",
    "CA_state_871 = CA_state[CA_state[\"Diagnosis\"] == \"871 - SEPTICEMIA OR SEVERE SEPSIS W/O MV 96+ HOURS W MCC\"].reset_index(drop=True)\n",
    "\n",
    "# Sorting Total Discharges via descending\n",
    "CA_state_871_desc = CA_state_871.sort_values(by=[\"Total Discharges\"], ascending=False).reset_index(drop=True)\n",
    "CA_state_871_desc.head()"
   ]
  },
  {
   "cell_type": "code",
   "execution_count": 5,
   "metadata": {},
   "outputs": [
    {
     "data": {
      "image/png": "[encoded data removed]",
      "text/plain": [
       "<Figure size 432x288 with 1 Axes>"
      ]
     },
     "metadata": {
      "needs_background": "light"
     },
     "output_type": "display_data"
    }
   ],
   "source": [
    "# Defining x and y values for plot\n",
    "x = CA_state_871_desc[\"Total Discharges\"]\n",
    "y = CA_state_871_desc[\"Cost Per Discharge\"]\n",
    "\n",
    "# Scatter plot. Where x is the number of discharges and y is the cost per discharge\n",
    "plt.scatter(x, y, edgecolors=\"black\")\n",
    "plt.title(\"Number of Discharges vs Cost Per Discharge (CA)\")\n",
    "plt.xlabel(\"Number of Discharges\")\n",
    "plt.ylabel(\"Cost Per Discharge ($)\")\n",
    "\n",
    "# Adding trendline for scatter plot\n",
    "z = np.polyfit(x, y, 1)\n",
    "p = np.poly1d(z)\n",
    "pylab.plot(x,p(x),\"r--\")\n",
    "plt.show()"
   ]
  },
  {
   "cell_type": "markdown",
   "metadata": {},
   "source": [
    "##### Top No. 2 TX (690 - KIDNEY & URINARY TRACT INFECTIONS W/O MCC)"
   ]
  },
  {
   "cell_type": "code",
   "execution_count": 6,
   "metadata": {},
   "outputs": [
    {
     "data": {
      "text/html": [
       "<div>\n",
       "<style scoped>\n",
       "    .dataframe tbody tr th:only-of-type {\n",
       "        vertical-align: middle;\n",
       "    }\n",
       "\n",
       "    .dataframe tbody tr th {\n",
       "        vertical-align: top;\n",
       "    }\n",
       "\n",
       "    .dataframe thead th {\n",
       "        text-align: right;\n",
       "    }\n",
       "</style>\n",
       "<table border=\"1\" class=\"dataframe\">\n",
       "  <thead>\n",
       "    <tr style=\"text-align: right;\">\n",
       "      <th></th>\n",
       "      <th>State</th>\n",
       "      <th>Diagnosis</th>\n",
       "      <th>Provider's Average Charge Covered by Medicare</th>\n",
       "      <th>Total Discharges</th>\n",
       "      <th>Cost Per Discharge</th>\n",
       "    </tr>\n",
       "  </thead>\n",
       "  <tbody>\n",
       "    <tr>\n",
       "      <th>0</th>\n",
       "      <td>TX</td>\n",
       "      <td>690 - KIDNEY &amp; URINARY TRACT INFECTIONS W/O MCC</td>\n",
       "      <td>$22,001.54</td>\n",
       "      <td>411</td>\n",
       "      <td>$53.53</td>\n",
       "    </tr>\n",
       "    <tr>\n",
       "      <th>1</th>\n",
       "      <td>TX</td>\n",
       "      <td>690 - KIDNEY &amp; URINARY TRACT INFECTIONS W/O MCC</td>\n",
       "      <td>$23,415.63</td>\n",
       "      <td>352</td>\n",
       "      <td>$66.52</td>\n",
       "    </tr>\n",
       "    <tr>\n",
       "      <th>2</th>\n",
       "      <td>TX</td>\n",
       "      <td>690 - KIDNEY &amp; URINARY TRACT INFECTIONS W/O MCC</td>\n",
       "      <td>$17,661.13</td>\n",
       "      <td>291</td>\n",
       "      <td>$60.69</td>\n",
       "    </tr>\n",
       "    <tr>\n",
       "      <th>3</th>\n",
       "      <td>TX</td>\n",
       "      <td>690 - KIDNEY &amp; URINARY TRACT INFECTIONS W/O MCC</td>\n",
       "      <td>$35,083.95</td>\n",
       "      <td>266</td>\n",
       "      <td>$131.89</td>\n",
       "    </tr>\n",
       "    <tr>\n",
       "      <th>4</th>\n",
       "      <td>TX</td>\n",
       "      <td>690 - KIDNEY &amp; URINARY TRACT INFECTIONS W/O MCC</td>\n",
       "      <td>$28,242.07</td>\n",
       "      <td>252</td>\n",
       "      <td>$112.07</td>\n",
       "    </tr>\n",
       "  </tbody>\n",
       "</table>\n",
       "</div>"
      ],
      "text/plain": [
       "  State                                        Diagnosis  \\\n",
       "0    TX  690 - KIDNEY & URINARY TRACT INFECTIONS W/O MCC   \n",
       "1    TX  690 - KIDNEY & URINARY TRACT INFECTIONS W/O MCC   \n",
       "2    TX  690 - KIDNEY & URINARY TRACT INFECTIONS W/O MCC   \n",
       "3    TX  690 - KIDNEY & URINARY TRACT INFECTIONS W/O MCC   \n",
       "4    TX  690 - KIDNEY & URINARY TRACT INFECTIONS W/O MCC   \n",
       "\n",
       "   Provider's Average Charge Covered by Medicare  Total Discharges  \\\n",
       "0                                     $22,001.54               411   \n",
       "1                                     $23,415.63               352   \n",
       "2                                     $17,661.13               291   \n",
       "3                                     $35,083.95               266   \n",
       "4                                     $28,242.07               252   \n",
       "\n",
       "   Cost Per Discharge  \n",
       "0              $53.53  \n",
       "1              $66.52  \n",
       "2              $60.69  \n",
       "3             $131.89  \n",
       "4             $112.07  "
      ]
     },
     "execution_count": 6,
     "metadata": {},
     "output_type": "execute_result"
    }
   ],
   "source": [
    "# Extracting TX with Diagnosis 690 from DataFrame\n",
    "TX_state = proce_vs_cost[proce_vs_cost[\"State\"] == \"TX\"].reset_index(drop=True)\n",
    "TX_state_690 = TX_state[TX_state[\"Diagnosis\"] == \"690 - KIDNEY & URINARY TRACT INFECTIONS W/O MCC\"].reset_index(drop=True)\n",
    "\n",
    "# Sorting Total Discharges via descending\n",
    "TX_state_690_desc = TX_state_690.sort_values(by=[\"Total Discharges\"], ascending=False).reset_index(drop=True)\n",
    "TX_state_690_desc.head()"
   ]
  },
  {
   "cell_type": "code",
   "execution_count": 7,
   "metadata": {},
   "outputs": [
    {
     "data": {
      "image/png": "[encoded data removed]",
      "text/plain": [
       "<Figure size 432x288 with 1 Axes>"
      ]
     },
     "metadata": {
      "needs_background": "light"
     },
     "output_type": "display_data"
    }
   ],
   "source": [
    "# Defining x and y values for plot\n",
    "x = TX_state_690_desc[\"Total Discharges\"]\n",
    "y = TX_state_690_desc[\"Cost Per Discharge\"]\n",
    "\n",
    "# Scatter plot. Where x is the number of discharges and y is the cost per discharge\n",
    "plt.scatter(x, y, edgecolors=\"black\")\n",
    "plt.title(\"Number of Discharges vs Cost Per Discharge (TX)\")\n",
    "plt.xlabel(\"Number of Discharges\")\n",
    "plt.ylabel(\"Cost Per Discharge ($)\")\n",
    "\n",
    "# Adding trendline for scatter plot\n",
    "z = np.polyfit(x, y, 1)\n",
    "p = np.poly1d(z)\n",
    "pylab.plot(x,p(x),\"r--\")\n",
    "plt.show()"
   ]
  },
  {
   "cell_type": "markdown",
   "metadata": {},
   "source": [
    "##### Top No. 3 FL (690 - KIDNEY & URINARY TRACT INFECTIONS W/O MCC)"
   ]
  },
  {
   "cell_type": "code",
   "execution_count": 8,
   "metadata": {},
   "outputs": [
    {
     "data": {
      "text/html": [
       "<div>\n",
       "<style scoped>\n",
       "    .dataframe tbody tr th:only-of-type {\n",
       "        vertical-align: middle;\n",
       "    }\n",
       "\n",
       "    .dataframe tbody tr th {\n",
       "        vertical-align: top;\n",
       "    }\n",
       "\n",
       "    .dataframe thead th {\n",
       "        text-align: right;\n",
       "    }\n",
       "</style>\n",
       "<table border=\"1\" class=\"dataframe\">\n",
       "  <thead>\n",
       "    <tr style=\"text-align: right;\">\n",
       "      <th></th>\n",
       "      <th>State</th>\n",
       "      <th>Diagnosis</th>\n",
       "      <th>Provider's Average Charge Covered by Medicare</th>\n",
       "      <th>Total Discharges</th>\n",
       "      <th>Cost Per Discharge</th>\n",
       "    </tr>\n",
       "  </thead>\n",
       "  <tbody>\n",
       "    <tr>\n",
       "      <th>0</th>\n",
       "      <td>FL</td>\n",
       "      <td>690 - KIDNEY &amp; URINARY TRACT INFECTIONS W/O MCC</td>\n",
       "      <td>$24,223.62</td>\n",
       "      <td>807</td>\n",
       "      <td>$30.02</td>\n",
       "    </tr>\n",
       "    <tr>\n",
       "      <th>1</th>\n",
       "      <td>FL</td>\n",
       "      <td>690 - KIDNEY &amp; URINARY TRACT INFECTIONS W/O MCC</td>\n",
       "      <td>$21,558.38</td>\n",
       "      <td>317</td>\n",
       "      <td>$68.01</td>\n",
       "    </tr>\n",
       "    <tr>\n",
       "      <th>2</th>\n",
       "      <td>FL</td>\n",
       "      <td>690 - KIDNEY &amp; URINARY TRACT INFECTIONS W/O MCC</td>\n",
       "      <td>$26,282.96</td>\n",
       "      <td>306</td>\n",
       "      <td>$85.89</td>\n",
       "    </tr>\n",
       "    <tr>\n",
       "      <th>3</th>\n",
       "      <td>FL</td>\n",
       "      <td>690 - KIDNEY &amp; URINARY TRACT INFECTIONS W/O MCC</td>\n",
       "      <td>$16,869.59</td>\n",
       "      <td>273</td>\n",
       "      <td>$61.79</td>\n",
       "    </tr>\n",
       "    <tr>\n",
       "      <th>4</th>\n",
       "      <td>FL</td>\n",
       "      <td>690 - KIDNEY &amp; URINARY TRACT INFECTIONS W/O MCC</td>\n",
       "      <td>$19,298.14</td>\n",
       "      <td>262</td>\n",
       "      <td>$73.66</td>\n",
       "    </tr>\n",
       "  </tbody>\n",
       "</table>\n",
       "</div>"
      ],
      "text/plain": [
       "  State                                        Diagnosis  \\\n",
       "0    FL  690 - KIDNEY & URINARY TRACT INFECTIONS W/O MCC   \n",
       "1    FL  690 - KIDNEY & URINARY TRACT INFECTIONS W/O MCC   \n",
       "2    FL  690 - KIDNEY & URINARY TRACT INFECTIONS W/O MCC   \n",
       "3    FL  690 - KIDNEY & URINARY TRACT INFECTIONS W/O MCC   \n",
       "4    FL  690 - KIDNEY & URINARY TRACT INFECTIONS W/O MCC   \n",
       "\n",
       "   Provider's Average Charge Covered by Medicare  Total Discharges  \\\n",
       "0                                     $24,223.62               807   \n",
       "1                                     $21,558.38               317   \n",
       "2                                     $26,282.96               306   \n",
       "3                                     $16,869.59               273   \n",
       "4                                     $19,298.14               262   \n",
       "\n",
       "   Cost Per Discharge  \n",
       "0              $30.02  \n",
       "1              $68.01  \n",
       "2              $85.89  \n",
       "3              $61.79  \n",
       "4              $73.66  "
      ]
     },
     "execution_count": 8,
     "metadata": {},
     "output_type": "execute_result"
    }
   ],
   "source": [
    "# Extracting FL with Diagnosis 690 from DataFrame\n",
    "FL_state = proce_vs_cost[proce_vs_cost[\"State\"] == \"FL\"].reset_index(drop=True)\n",
    "FL_state_690 = FL_state[FL_state[\"Diagnosis\"] == \"690 - KIDNEY & URINARY TRACT INFECTIONS W/O MCC\"].reset_index(drop=True)\n",
    "\n",
    "# Sorting Total Discharges via descending\n",
    "FL_state_690_desc = FL_state_690.sort_values(by=[\"Total Discharges\"], ascending=False).reset_index(drop=True)\n",
    "FL_state_690_desc.head()"
   ]
  },
  {
   "cell_type": "code",
   "execution_count": 9,
   "metadata": {},
   "outputs": [
    {
     "data": {
      "image/png": "[encoded data removed]",
      "text/plain": [
       "<Figure size 432x288 with 1 Axes>"
      ]
     },
     "metadata": {
      "needs_background": "light"
     },
     "output_type": "display_data"
    }
   ],
   "source": [
    "# Defining x and y values for plot\n",
    "x = FL_state_690_desc[\"Total Discharges\"]\n",
    "y = FL_state_690_desc[\"Cost Per Discharge\"]\n",
    "\n",
    "# Scatter plot. Where x is the number of discharges and y is the cost per discharge\n",
    "plt.scatter(x, y, edgecolors=\"black\")\n",
    "plt.title(\"Number of Discharges vs Cost Per Discharge (FL)\")\n",
    "plt.xlabel(\"Number of Discharges\")\n",
    "plt.ylabel(\"Cost Per Discharge ($)\")\n",
    "\n",
    "# Adding trendline for scatter plot\n",
    "z = np.polyfit(x, y, 1)\n",
    "p = np.poly1d(z)\n",
    "pylab.plot(x,p(x),\"r--\")\n",
    "plt.show()"
   ]
  },
  {
   "cell_type": "markdown",
   "metadata": {},
   "source": [
    "##### Top No. 4 NY (292 - HEART FAILURE & SHOCK W CC)"
   ]
  },
  {
   "cell_type": "code",
   "execution_count": 10,
   "metadata": {},
   "outputs": [
    {
     "data": {
      "text/html": [
       "<div>\n",
       "<style scoped>\n",
       "    .dataframe tbody tr th:only-of-type {\n",
       "        vertical-align: middle;\n",
       "    }\n",
       "\n",
       "    .dataframe tbody tr th {\n",
       "        vertical-align: top;\n",
       "    }\n",
       "\n",
       "    .dataframe thead th {\n",
       "        text-align: right;\n",
       "    }\n",
       "</style>\n",
       "<table border=\"1\" class=\"dataframe\">\n",
       "  <thead>\n",
       "    <tr style=\"text-align: right;\">\n",
       "      <th></th>\n",
       "      <th>State</th>\n",
       "      <th>Diagnosis</th>\n",
       "      <th>Provider's Average Charge Covered by Medicare</th>\n",
       "      <th>Total Discharges</th>\n",
       "      <th>Cost Per Discharge</th>\n",
       "    </tr>\n",
       "  </thead>\n",
       "  <tbody>\n",
       "    <tr>\n",
       "      <th>0</th>\n",
       "      <td>NY</td>\n",
       "      <td>292 - HEART FAILURE &amp; SHOCK W CC</td>\n",
       "      <td>$43,839.46</td>\n",
       "      <td>475</td>\n",
       "      <td>$92.29</td>\n",
       "    </tr>\n",
       "    <tr>\n",
       "      <th>1</th>\n",
       "      <td>NY</td>\n",
       "      <td>292 - HEART FAILURE &amp; SHOCK W CC</td>\n",
       "      <td>$51,236.33</td>\n",
       "      <td>421</td>\n",
       "      <td>$121.70</td>\n",
       "    </tr>\n",
       "    <tr>\n",
       "      <th>2</th>\n",
       "      <td>NY</td>\n",
       "      <td>292 - HEART FAILURE &amp; SHOCK W CC</td>\n",
       "      <td>$55,929.32</td>\n",
       "      <td>312</td>\n",
       "      <td>$179.26</td>\n",
       "    </tr>\n",
       "    <tr>\n",
       "      <th>3</th>\n",
       "      <td>NY</td>\n",
       "      <td>292 - HEART FAILURE &amp; SHOCK W CC</td>\n",
       "      <td>$35,323.43</td>\n",
       "      <td>306</td>\n",
       "      <td>$115.44</td>\n",
       "    </tr>\n",
       "    <tr>\n",
       "      <th>4</th>\n",
       "      <td>NY</td>\n",
       "      <td>292 - HEART FAILURE &amp; SHOCK W CC</td>\n",
       "      <td>$49,305.82</td>\n",
       "      <td>256</td>\n",
       "      <td>$192.60</td>\n",
       "    </tr>\n",
       "  </tbody>\n",
       "</table>\n",
       "</div>"
      ],
      "text/plain": [
       "  State                         Diagnosis  \\\n",
       "0    NY  292 - HEART FAILURE & SHOCK W CC   \n",
       "1    NY  292 - HEART FAILURE & SHOCK W CC   \n",
       "2    NY  292 - HEART FAILURE & SHOCK W CC   \n",
       "3    NY  292 - HEART FAILURE & SHOCK W CC   \n",
       "4    NY  292 - HEART FAILURE & SHOCK W CC   \n",
       "\n",
       "   Provider's Average Charge Covered by Medicare  Total Discharges  \\\n",
       "0                                     $43,839.46               475   \n",
       "1                                     $51,236.33               421   \n",
       "2                                     $55,929.32               312   \n",
       "3                                     $35,323.43               306   \n",
       "4                                     $49,305.82               256   \n",
       "\n",
       "   Cost Per Discharge  \n",
       "0              $92.29  \n",
       "1             $121.70  \n",
       "2             $179.26  \n",
       "3             $115.44  \n",
       "4             $192.60  "
      ]
     },
     "execution_count": 10,
     "metadata": {},
     "output_type": "execute_result"
    }
   ],
   "source": [
    "# Extracting NY with Diagnosis 292 from DataFrame\n",
    "NY_state = proce_vs_cost[proce_vs_cost[\"State\"] == \"NY\"].reset_index(drop=True)\n",
    "NY_state_292 = NY_state[NY_state[\"Diagnosis\"] == \"292 - HEART FAILURE & SHOCK W CC\"].reset_index(drop=True)\n",
    "\n",
    "# Sorting Total Discharges via descending\n",
    "NY_state_292_desc = NY_state_292.sort_values(by=[\"Total Discharges\"], ascending=False).reset_index(drop=True)\n",
    "NY_state_292_desc.head()"
   ]
  },
  {
   "cell_type": "code",
   "execution_count": 11,
   "metadata": {},
   "outputs": [
    {
     "data": {
      "image/png": "[encoded data removed]",
      "text/plain": [
       "<Figure size 432x288 with 1 Axes>"
      ]
     },
     "metadata": {
      "needs_background": "light"
     },
     "output_type": "display_data"
    }
   ],
   "source": [
    "# Defining x and y values for plot\n",
    "x = NY_state_292_desc[\"Total Discharges\"]\n",
    "y = NY_state_292_desc[\"Cost Per Discharge\"]\n",
    "\n",
    "# Scatter plot. Where x is the number of discharges and y is the cost per discharge\n",
    "plt.scatter(x, y, edgecolors=\"black\")\n",
    "plt.title(\"Number of Discharges vs Cost Per Discharge (NY)\")\n",
    "plt.xlabel(\"Number of Discharges\")\n",
    "plt.ylabel(\"Cost Per Discharge ($)\")\n",
    "\n",
    "# Adding trendline for scatter plot\n",
    "z = np.polyfit(x, y, 1)\n",
    "p = np.poly1d(z)\n",
    "pylab.plot(x,p(x),\"r--\")\n",
    "plt.show()"
   ]
  },
  {
   "cell_type": "markdown",
   "metadata": {},
   "source": [
    "##### Top No. 5 PA (292 - HEART FAILURE & SHOCK W CC)"
   ]
  },
  {
   "cell_type": "code",
   "execution_count": 12,
   "metadata": {},
   "outputs": [
    {
     "data": {
      "text/html": [
       "<div>\n",
       "<style scoped>\n",
       "    .dataframe tbody tr th:only-of-type {\n",
       "        vertical-align: middle;\n",
       "    }\n",
       "\n",
       "    .dataframe tbody tr th {\n",
       "        vertical-align: top;\n",
       "    }\n",
       "\n",
       "    .dataframe thead th {\n",
       "        text-align: right;\n",
       "    }\n",
       "</style>\n",
       "<table border=\"1\" class=\"dataframe\">\n",
       "  <thead>\n",
       "    <tr style=\"text-align: right;\">\n",
       "      <th></th>\n",
       "      <th>State</th>\n",
       "      <th>Diagnosis</th>\n",
       "      <th>Provider's Average Charge Covered by Medicare</th>\n",
       "      <th>Total Discharges</th>\n",
       "      <th>Cost Per Discharge</th>\n",
       "    </tr>\n",
       "  </thead>\n",
       "  <tbody>\n",
       "    <tr>\n",
       "      <th>0</th>\n",
       "      <td>PA</td>\n",
       "      <td>292 - HEART FAILURE &amp; SHOCK W CC</td>\n",
       "      <td>$29,413.45</td>\n",
       "      <td>329</td>\n",
       "      <td>$89.40</td>\n",
       "    </tr>\n",
       "    <tr>\n",
       "      <th>1</th>\n",
       "      <td>PA</td>\n",
       "      <td>292 - HEART FAILURE &amp; SHOCK W CC</td>\n",
       "      <td>$22,254.23</td>\n",
       "      <td>306</td>\n",
       "      <td>$72.73</td>\n",
       "    </tr>\n",
       "    <tr>\n",
       "      <th>2</th>\n",
       "      <td>PA</td>\n",
       "      <td>292 - HEART FAILURE &amp; SHOCK W CC</td>\n",
       "      <td>$39,063.05</td>\n",
       "      <td>305</td>\n",
       "      <td>$128.08</td>\n",
       "    </tr>\n",
       "    <tr>\n",
       "      <th>3</th>\n",
       "      <td>PA</td>\n",
       "      <td>292 - HEART FAILURE &amp; SHOCK W CC</td>\n",
       "      <td>$22,521.77</td>\n",
       "      <td>284</td>\n",
       "      <td>$79.30</td>\n",
       "    </tr>\n",
       "    <tr>\n",
       "      <th>4</th>\n",
       "      <td>PA</td>\n",
       "      <td>292 - HEART FAILURE &amp; SHOCK W CC</td>\n",
       "      <td>$12,289.63</td>\n",
       "      <td>281</td>\n",
       "      <td>$43.74</td>\n",
       "    </tr>\n",
       "  </tbody>\n",
       "</table>\n",
       "</div>"
      ],
      "text/plain": [
       "  State                         Diagnosis  \\\n",
       "0    PA  292 - HEART FAILURE & SHOCK W CC   \n",
       "1    PA  292 - HEART FAILURE & SHOCK W CC   \n",
       "2    PA  292 - HEART FAILURE & SHOCK W CC   \n",
       "3    PA  292 - HEART FAILURE & SHOCK W CC   \n",
       "4    PA  292 - HEART FAILURE & SHOCK W CC   \n",
       "\n",
       "   Provider's Average Charge Covered by Medicare  Total Discharges  \\\n",
       "0                                     $29,413.45               329   \n",
       "1                                     $22,254.23               306   \n",
       "2                                     $39,063.05               305   \n",
       "3                                     $22,521.77               284   \n",
       "4                                     $12,289.63               281   \n",
       "\n",
       "   Cost Per Discharge  \n",
       "0              $89.40  \n",
       "1              $72.73  \n",
       "2             $128.08  \n",
       "3              $79.30  \n",
       "4              $43.74  "
      ]
     },
     "execution_count": 12,
     "metadata": {},
     "output_type": "execute_result"
    }
   ],
   "source": [
    "# Extracting PA with Diagnosis 292 from DataFrame\n",
    "PA_state = proce_vs_cost[proce_vs_cost[\"State\"] == \"PA\"].reset_index(drop=True)\n",
    "PA_state_292 = PA_state[PA_state[\"Diagnosis\"] == \"292 - HEART FAILURE & SHOCK W CC\"].reset_index(drop=True)\n",
    "\n",
    "# Sorting Total Discharges via descending\n",
    "PA_state_292_desc = PA_state_292.sort_values(by=[\"Total Discharges\"], ascending=False).reset_index(drop=True)\n",
    "PA_state_292_desc.head()"
   ]
  },
  {
   "cell_type": "code",
   "execution_count": 13,
   "metadata": {},
   "outputs": [
    {
     "data": {
      "image/png": "[encoded data removed]",
      "text/plain": [
       "<Figure size 432x288 with 1 Axes>"
      ]
     },
     "metadata": {
      "needs_background": "light"
     },
     "output_type": "display_data"
    }
   ],
   "source": [
    "# Defining x and y values for plot\n",
    "x = PA_state_292_desc[\"Total Discharges\"]\n",
    "y = PA_state_292_desc[\"Cost Per Discharge\"]\n",
    "\n",
    "# Scatter plot. Where x is the number of discharges and y is the cost per discharge\n",
    "plt.scatter(x, y, edgecolors=\"black\")\n",
    "plt.title(\"Number of Discharges vs Cost Per Discharge (PA)\")\n",
    "plt.xlabel(\"Number of Discharges\")\n",
    "plt.ylabel(\"Cost Per Discharge ($)\")\n",
    "\n",
    "# Adding trendline for scatter plot\n",
    "z = np.polyfit(x, y, 1)\n",
    "p = np.poly1d(z)\n",
    "pylab.plot(x,p(x),\"r--\")\n",
    "plt.show()"
   ]
  },
  {
   "cell_type": "markdown",
   "metadata": {},
   "source": [
    "### Step 4: Select the bottom 5 procedure count to determine the relationship between the number of procedures done for a drg code to cost.\n"
   ]
  },
  {
   "cell_type": "code",
   "execution_count": 14,
   "metadata": {},
   "outputs": [
    {
     "data": {
      "text/html": [
       "<div>\n",
       "<style scoped>\n",
       "    .dataframe tbody tr th:only-of-type {\n",
       "        vertical-align: middle;\n",
       "    }\n",
       "\n",
       "    .dataframe tbody tr th {\n",
       "        vertical-align: top;\n",
       "    }\n",
       "\n",
       "    .dataframe thead th {\n",
       "        text-align: right;\n",
       "    }\n",
       "</style>\n",
       "<table border=\"1\" class=\"dataframe\">\n",
       "  <thead>\n",
       "    <tr style=\"text-align: right;\">\n",
       "      <th></th>\n",
       "      <th>State</th>\n",
       "      <th>Diagnosis</th>\n",
       "      <th>Provider Count</th>\n",
       "    </tr>\n",
       "  </thead>\n",
       "  <tbody>\n",
       "    <tr>\n",
       "      <th>46</th>\n",
       "      <td>AK</td>\n",
       "      <td>392 - ESOPHAGITIS, GASTROENT &amp; MISC DIGEST DIS...</td>\n",
       "      <td>8</td>\n",
       "    </tr>\n",
       "    <tr>\n",
       "      <th>47</th>\n",
       "      <td>DC</td>\n",
       "      <td>812 - RED BLOOD CELL DISORDERS W/O MCC</td>\n",
       "      <td>7</td>\n",
       "    </tr>\n",
       "    <tr>\n",
       "      <th>48</th>\n",
       "      <td>ND</td>\n",
       "      <td>194 - SIMPLE PNEUMONIA &amp; PLEURISY W CC</td>\n",
       "      <td>7</td>\n",
       "    </tr>\n",
       "    <tr>\n",
       "      <th>49</th>\n",
       "      <td>VT</td>\n",
       "      <td>191 - CHRONIC OBSTRUCTIVE PULMONARY DISEASE W CC</td>\n",
       "      <td>6</td>\n",
       "    </tr>\n",
       "    <tr>\n",
       "      <th>50</th>\n",
       "      <td>DE</td>\n",
       "      <td>292 - HEART FAILURE &amp; SHOCK W CC</td>\n",
       "      <td>6</td>\n",
       "    </tr>\n",
       "  </tbody>\n",
       "</table>\n",
       "</div>"
      ],
      "text/plain": [
       "   State                                          Diagnosis  Provider Count\n",
       "46    AK  392 - ESOPHAGITIS, GASTROENT & MISC DIGEST DIS...               8\n",
       "47    DC             812 - RED BLOOD CELL DISORDERS W/O MCC               7\n",
       "48    ND             194 - SIMPLE PNEUMONIA & PLEURISY W CC               7\n",
       "49    VT   191 - CHRONIC OBSTRUCTIVE PULMONARY DISEASE W CC               6\n",
       "50    DE                   292 - HEART FAILURE & SHOCK W CC               6"
      ]
     },
     "execution_count": 14,
     "metadata": {},
     "output_type": "execute_result"
    }
   ],
   "source": [
    "# Determine the highest provider count for the bottom 5 States\n",
    "resultGB.tail()"
   ]
  },
  {
   "cell_type": "markdown",
   "metadata": {},
   "source": [
    "##### Bottom No. 1 DE (292 - HEART FAILURE & SHOCK W CC)"
   ]
  },
  {
   "cell_type": "code",
   "execution_count": 15,
   "metadata": {},
   "outputs": [
    {
     "data": {
      "text/html": [
       "<div>\n",
       "<style scoped>\n",
       "    .dataframe tbody tr th:only-of-type {\n",
       "        vertical-align: middle;\n",
       "    }\n",
       "\n",
       "    .dataframe tbody tr th {\n",
       "        vertical-align: top;\n",
       "    }\n",
       "\n",
       "    .dataframe thead th {\n",
       "        text-align: right;\n",
       "    }\n",
       "</style>\n",
       "<table border=\"1\" class=\"dataframe\">\n",
       "  <thead>\n",
       "    <tr style=\"text-align: right;\">\n",
       "      <th></th>\n",
       "      <th>State</th>\n",
       "      <th>Diagnosis</th>\n",
       "      <th>Provider's Average Charge Covered by Medicare</th>\n",
       "      <th>Total Discharges</th>\n",
       "      <th>Cost Per Discharge</th>\n",
       "    </tr>\n",
       "  </thead>\n",
       "  <tbody>\n",
       "    <tr>\n",
       "      <th>0</th>\n",
       "      <td>DE</td>\n",
       "      <td>292 - HEART FAILURE &amp; SHOCK W CC</td>\n",
       "      <td>$16,482.74</td>\n",
       "      <td>455</td>\n",
       "      <td>$36.23</td>\n",
       "    </tr>\n",
       "    <tr>\n",
       "      <th>1</th>\n",
       "      <td>DE</td>\n",
       "      <td>292 - HEART FAILURE &amp; SHOCK W CC</td>\n",
       "      <td>$15,608.49</td>\n",
       "      <td>115</td>\n",
       "      <td>$135.73</td>\n",
       "    </tr>\n",
       "    <tr>\n",
       "      <th>2</th>\n",
       "      <td>DE</td>\n",
       "      <td>292 - HEART FAILURE &amp; SHOCK W CC</td>\n",
       "      <td>$13,998.17</td>\n",
       "      <td>89</td>\n",
       "      <td>$157.28</td>\n",
       "    </tr>\n",
       "    <tr>\n",
       "      <th>3</th>\n",
       "      <td>DE</td>\n",
       "      <td>292 - HEART FAILURE &amp; SHOCK W CC</td>\n",
       "      <td>$21,723.54</td>\n",
       "      <td>86</td>\n",
       "      <td>$252.60</td>\n",
       "    </tr>\n",
       "    <tr>\n",
       "      <th>4</th>\n",
       "      <td>DE</td>\n",
       "      <td>292 - HEART FAILURE &amp; SHOCK W CC</td>\n",
       "      <td>$21,474.80</td>\n",
       "      <td>60</td>\n",
       "      <td>$357.91</td>\n",
       "    </tr>\n",
       "  </tbody>\n",
       "</table>\n",
       "</div>"
      ],
      "text/plain": [
       "  State                         Diagnosis  \\\n",
       "0    DE  292 - HEART FAILURE & SHOCK W CC   \n",
       "1    DE  292 - HEART FAILURE & SHOCK W CC   \n",
       "2    DE  292 - HEART FAILURE & SHOCK W CC   \n",
       "3    DE  292 - HEART FAILURE & SHOCK W CC   \n",
       "4    DE  292 - HEART FAILURE & SHOCK W CC   \n",
       "\n",
       "   Provider's Average Charge Covered by Medicare  Total Discharges  \\\n",
       "0                                     $16,482.74               455   \n",
       "1                                     $15,608.49               115   \n",
       "2                                     $13,998.17                89   \n",
       "3                                     $21,723.54                86   \n",
       "4                                     $21,474.80                60   \n",
       "\n",
       "   Cost Per Discharge  \n",
       "0              $36.23  \n",
       "1             $135.73  \n",
       "2             $157.28  \n",
       "3             $252.60  \n",
       "4             $357.91  "
      ]
     },
     "execution_count": 15,
     "metadata": {},
     "output_type": "execute_result"
    }
   ],
   "source": [
    "# Extracting DE with Diagnosis 292 from DataFrame\n",
    "DE_state = proce_vs_cost[proce_vs_cost[\"State\"] == \"DE\"].reset_index(drop=True)\n",
    "DE_state_292 = DE_state[DE_state[\"Diagnosis\"] == \"292 - HEART FAILURE & SHOCK W CC\"].reset_index(drop=True)\n",
    "\n",
    "# Sorting Total Discharges via descending\n",
    "DE_state_292_desc = DE_state_292.sort_values(by=[\"Total Discharges\"], ascending=False).reset_index(drop=True)\n",
    "DE_state_292_desc.head()"
   ]
  },
  {
   "cell_type": "code",
   "execution_count": 16,
   "metadata": {},
   "outputs": [
    {
     "data": {
      "image/png": "[encoded data removed]",
      "text/plain": [
       "<Figure size 432x288 with 1 Axes>"
      ]
     },
     "metadata": {},
     "output_type": "display_data"
    }
   ],
   "source": [
    "# Setting up variable values for pie plot\n",
    "sizes = DE_state_292_desc[\"Total Discharges\"]\n",
    "explode = (0.1,0,0,0,0,0)\n",
    "labels=[\"$36.23\", \"$135.73\", \"$157.28\", \"$252.6\", \"$357.91\", \"$1069.32\"]\n",
    "\n",
    "# Pie plot where % represents the precentage of Total Discharges for each provider\n",
    "fig1, ax1 = plt.subplots()\n",
    "ax1.pie(sizes, explode=explode, labels=labels, autopct='%1.1f%%',shadow=True, startangle=45)\n",
    "ax1.axis('equal')\n",
    "plt.legend(loc=\"upper left\")\n",
    "plt.show()"
   ]
  },
  {
   "cell_type": "markdown",
   "metadata": {},
   "source": [
    "##### Bottom No. 2 VT (191 - CHRONIC OBSTRUCTIVE PULMONARY DISEASE W CC)"
   ]
  },
  {
   "cell_type": "code",
   "execution_count": 17,
   "metadata": {},
   "outputs": [
    {
     "data": {
      "text/html": [
       "<div>\n",
       "<style scoped>\n",
       "    .dataframe tbody tr th:only-of-type {\n",
       "        vertical-align: middle;\n",
       "    }\n",
       "\n",
       "    .dataframe tbody tr th {\n",
       "        vertical-align: top;\n",
       "    }\n",
       "\n",
       "    .dataframe thead th {\n",
       "        text-align: right;\n",
       "    }\n",
       "</style>\n",
       "<table border=\"1\" class=\"dataframe\">\n",
       "  <thead>\n",
       "    <tr style=\"text-align: right;\">\n",
       "      <th></th>\n",
       "      <th>State</th>\n",
       "      <th>Diagnosis</th>\n",
       "      <th>Provider's Average Charge Covered by Medicare</th>\n",
       "      <th>Total Discharges</th>\n",
       "      <th>Cost Per Discharge</th>\n",
       "    </tr>\n",
       "  </thead>\n",
       "  <tbody>\n",
       "    <tr>\n",
       "      <th>0</th>\n",
       "      <td>VT</td>\n",
       "      <td>191 - CHRONIC OBSTRUCTIVE PULMONARY DISEASE W CC</td>\n",
       "      <td>$16,959.34</td>\n",
       "      <td>85</td>\n",
       "      <td>$199.52</td>\n",
       "    </tr>\n",
       "    <tr>\n",
       "      <th>1</th>\n",
       "      <td>VT</td>\n",
       "      <td>191 - CHRONIC OBSTRUCTIVE PULMONARY DISEASE W CC</td>\n",
       "      <td>$11,773.80</td>\n",
       "      <td>68</td>\n",
       "      <td>$173.14</td>\n",
       "    </tr>\n",
       "    <tr>\n",
       "      <th>2</th>\n",
       "      <td>VT</td>\n",
       "      <td>191 - CHRONIC OBSTRUCTIVE PULMONARY DISEASE W CC</td>\n",
       "      <td>$13,088.02</td>\n",
       "      <td>50</td>\n",
       "      <td>$261.76</td>\n",
       "    </tr>\n",
       "    <tr>\n",
       "      <th>3</th>\n",
       "      <td>VT</td>\n",
       "      <td>191 - CHRONIC OBSTRUCTIVE PULMONARY DISEASE W CC</td>\n",
       "      <td>$12,579.81</td>\n",
       "      <td>43</td>\n",
       "      <td>$292.55</td>\n",
       "    </tr>\n",
       "    <tr>\n",
       "      <th>4</th>\n",
       "      <td>VT</td>\n",
       "      <td>191 - CHRONIC OBSTRUCTIVE PULMONARY DISEASE W CC</td>\n",
       "      <td>$12,257.89</td>\n",
       "      <td>19</td>\n",
       "      <td>$645.15</td>\n",
       "    </tr>\n",
       "  </tbody>\n",
       "</table>\n",
       "</div>"
      ],
      "text/plain": [
       "  State                                         Diagnosis  \\\n",
       "0    VT  191 - CHRONIC OBSTRUCTIVE PULMONARY DISEASE W CC   \n",
       "1    VT  191 - CHRONIC OBSTRUCTIVE PULMONARY DISEASE W CC   \n",
       "2    VT  191 - CHRONIC OBSTRUCTIVE PULMONARY DISEASE W CC   \n",
       "3    VT  191 - CHRONIC OBSTRUCTIVE PULMONARY DISEASE W CC   \n",
       "4    VT  191 - CHRONIC OBSTRUCTIVE PULMONARY DISEASE W CC   \n",
       "\n",
       "   Provider's Average Charge Covered by Medicare  Total Discharges  \\\n",
       "0                                     $16,959.34                85   \n",
       "1                                     $11,773.80                68   \n",
       "2                                     $13,088.02                50   \n",
       "3                                     $12,579.81                43   \n",
       "4                                     $12,257.89                19   \n",
       "\n",
       "   Cost Per Discharge  \n",
       "0             $199.52  \n",
       "1             $173.14  \n",
       "2             $261.76  \n",
       "3             $292.55  \n",
       "4             $645.15  "
      ]
     },
     "execution_count": 17,
     "metadata": {},
     "output_type": "execute_result"
    }
   ],
   "source": [
    "# Extracting VT with Diagnosis 191 from DataFrame\n",
    "VT_state = proce_vs_cost[proce_vs_cost[\"State\"] == \"VT\"].reset_index(drop=True)\n",
    "VT_state_191 = VT_state[VT_state[\"Diagnosis\"] == \"191 - CHRONIC OBSTRUCTIVE PULMONARY DISEASE W CC\"].reset_index(drop=True)\n",
    "\n",
    "# Sorting Total Discharges via descending\n",
    "VT_state_191_desc = VT_state_191.sort_values(by=[\"Total Discharges\"], ascending=False).reset_index(drop=True)\n",
    "VT_state_191_desc.head()"
   ]
  },
  {
   "cell_type": "code",
   "execution_count": 18,
   "metadata": {},
   "outputs": [
    {
     "data": {
      "image/png": "[encoded data removed]",
      "text/plain": [
       "<Figure size 432x288 with 1 Axes>"
      ]
     },
     "metadata": {},
     "output_type": "display_data"
    }
   ],
   "source": [
    "# Setting up variable values for pie plot\n",
    "sizes = VT_state_191_desc[\"Total Discharges\"]\n",
    "explode = (0.1,0,0,0,0,0)\n",
    "labels=[\"$199.52\",\"$173.14\",\"$261.76\",\"$292.55\",\"$645.15\",\"$712.15\"]\n",
    "\n",
    "# Pie plot where % represents the precentage of Total Discharges for each provider\n",
    "fig1, ax1 = plt.subplots()\n",
    "ax1.pie(sizes, explode=explode, labels=labels, autopct='%1.1f%%',shadow=True, startangle=45)\n",
    "ax1.axis('equal') \n",
    "plt.legend(loc=\"upper left\")\n",
    "plt.show()"
   ]
  },
  {
   "cell_type": "markdown",
   "metadata": {},
   "source": [
    "##### Bottom No. 3 DC (812 - RED BLOOD CELL DISORDERS W/O MCC)\n"
   ]
  },
  {
   "cell_type": "code",
   "execution_count": 19,
   "metadata": {},
   "outputs": [
    {
     "data": {
      "text/html": [
       "<div>\n",
       "<style scoped>\n",
       "    .dataframe tbody tr th:only-of-type {\n",
       "        vertical-align: middle;\n",
       "    }\n",
       "\n",
       "    .dataframe tbody tr th {\n",
       "        vertical-align: top;\n",
       "    }\n",
       "\n",
       "    .dataframe thead th {\n",
       "        text-align: right;\n",
       "    }\n",
       "</style>\n",
       "<table border=\"1\" class=\"dataframe\">\n",
       "  <thead>\n",
       "    <tr style=\"text-align: right;\">\n",
       "      <th></th>\n",
       "      <th>State</th>\n",
       "      <th>Diagnosis</th>\n",
       "      <th>Provider's Average Charge Covered by Medicare</th>\n",
       "      <th>Total Discharges</th>\n",
       "      <th>Cost Per Discharge</th>\n",
       "    </tr>\n",
       "  </thead>\n",
       "  <tbody>\n",
       "    <tr>\n",
       "      <th>0</th>\n",
       "      <td>DC</td>\n",
       "      <td>812 - RED BLOOD CELL DISORDERS W/O MCC</td>\n",
       "      <td>$21,741.77</td>\n",
       "      <td>147</td>\n",
       "      <td>$147.90</td>\n",
       "    </tr>\n",
       "    <tr>\n",
       "      <th>1</th>\n",
       "      <td>DC</td>\n",
       "      <td>812 - RED BLOOD CELL DISORDERS W/O MCC</td>\n",
       "      <td>$22,996.31</td>\n",
       "      <td>85</td>\n",
       "      <td>$270.54</td>\n",
       "    </tr>\n",
       "    <tr>\n",
       "      <th>2</th>\n",
       "      <td>DC</td>\n",
       "      <td>812 - RED BLOOD CELL DISORDERS W/O MCC</td>\n",
       "      <td>$12,217.08</td>\n",
       "      <td>58</td>\n",
       "      <td>$210.64</td>\n",
       "    </tr>\n",
       "    <tr>\n",
       "      <th>3</th>\n",
       "      <td>DC</td>\n",
       "      <td>812 - RED BLOOD CELL DISORDERS W/O MCC</td>\n",
       "      <td>$15,105.16</td>\n",
       "      <td>53</td>\n",
       "      <td>$285.00</td>\n",
       "    </tr>\n",
       "    <tr>\n",
       "      <th>4</th>\n",
       "      <td>DC</td>\n",
       "      <td>812 - RED BLOOD CELL DISORDERS W/O MCC</td>\n",
       "      <td>$21,984.32</td>\n",
       "      <td>52</td>\n",
       "      <td>$422.78</td>\n",
       "    </tr>\n",
       "  </tbody>\n",
       "</table>\n",
       "</div>"
      ],
      "text/plain": [
       "  State                               Diagnosis  \\\n",
       "0    DC  812 - RED BLOOD CELL DISORDERS W/O MCC   \n",
       "1    DC  812 - RED BLOOD CELL DISORDERS W/O MCC   \n",
       "2    DC  812 - RED BLOOD CELL DISORDERS W/O MCC   \n",
       "3    DC  812 - RED BLOOD CELL DISORDERS W/O MCC   \n",
       "4    DC  812 - RED BLOOD CELL DISORDERS W/O MCC   \n",
       "\n",
       "   Provider's Average Charge Covered by Medicare  Total Discharges  \\\n",
       "0                                     $21,741.77               147   \n",
       "1                                     $22,996.31                85   \n",
       "2                                     $12,217.08                58   \n",
       "3                                     $15,105.16                53   \n",
       "4                                     $21,984.32                52   \n",
       "\n",
       "   Cost Per Discharge  \n",
       "0             $147.90  \n",
       "1             $270.54  \n",
       "2             $210.64  \n",
       "3             $285.00  \n",
       "4             $422.78  "
      ]
     },
     "execution_count": 19,
     "metadata": {},
     "output_type": "execute_result"
    }
   ],
   "source": [
    "# Extracting DC with Diagnosis 812 from DataFrame\n",
    "DC_state = proce_vs_cost[proce_vs_cost[\"State\"] == \"DC\"].reset_index(drop=True)\n",
    "DC_state_812 = DC_state[DC_state[\"Diagnosis\"] == \"812 - RED BLOOD CELL DISORDERS W/O MCC\"].reset_index(drop=True)\n",
    "\n",
    "# Sorting Total Discharges via descending\n",
    "DC_state_812_desc = DC_state_812.sort_values(by=[\"Total Discharges\"], ascending=False).reset_index(drop=True)\n",
    "DC_state_812_desc.head()"
   ]
  },
  {
   "cell_type": "code",
   "execution_count": 20,
   "metadata": {},
   "outputs": [
    {
     "data": {
      "image/png": "[encoded data removed]",
      "text/plain": [
       "<Figure size 432x288 with 1 Axes>"
      ]
     },
     "metadata": {},
     "output_type": "display_data"
    }
   ],
   "source": [
    "# Setting up variable values for pie plot\n",
    "sizes = DC_state_812_desc[\"Total Discharges\"]\n",
    "explode = (0.1,0,0,0,0,0,0)\n",
    "labels=[\"$147.90\", \"$270.54\", \"$210.64\", \"$285.00\", \"$422.78\", \"$824.30\", \"$1,280.34\"]\n",
    "\n",
    "# Pie plot where % represents the precentage of Total Discharges for each provider\n",
    "fig1, ax1 = plt.subplots()\n",
    "ax1.pie(sizes, explode=explode, labels=labels, autopct='%1.1f%%',shadow=True, startangle=45)\n",
    "ax1.axis('equal')\n",
    "plt.legend(loc=\"upper left\")\n",
    "plt.show()"
   ]
  },
  {
   "cell_type": "markdown",
   "metadata": {},
   "source": [
    "##### Bottom No. 4 ND (194 - SIMPLE PNEUMONIA & PLEURISY W CC)"
   ]
  },
  {
   "cell_type": "code",
   "execution_count": 21,
   "metadata": {},
   "outputs": [
    {
     "data": {
      "text/html": [
       "<div>\n",
       "<style scoped>\n",
       "    .dataframe tbody tr th:only-of-type {\n",
       "        vertical-align: middle;\n",
       "    }\n",
       "\n",
       "    .dataframe tbody tr th {\n",
       "        vertical-align: top;\n",
       "    }\n",
       "\n",
       "    .dataframe thead th {\n",
       "        text-align: right;\n",
       "    }\n",
       "</style>\n",
       "<table border=\"1\" class=\"dataframe\">\n",
       "  <thead>\n",
       "    <tr style=\"text-align: right;\">\n",
       "      <th></th>\n",
       "      <th>State</th>\n",
       "      <th>Diagnosis</th>\n",
       "      <th>Provider's Average Charge Covered by Medicare</th>\n",
       "      <th>Total Discharges</th>\n",
       "      <th>Cost Per Discharge</th>\n",
       "    </tr>\n",
       "  </thead>\n",
       "  <tbody>\n",
       "    <tr>\n",
       "      <th>0</th>\n",
       "      <td>ND</td>\n",
       "      <td>194 - SIMPLE PNEUMONIA &amp; PLEURISY W CC</td>\n",
       "      <td>$12,100.62</td>\n",
       "      <td>87</td>\n",
       "      <td>$139.09</td>\n",
       "    </tr>\n",
       "    <tr>\n",
       "      <th>1</th>\n",
       "      <td>ND</td>\n",
       "      <td>194 - SIMPLE PNEUMONIA &amp; PLEURISY W CC</td>\n",
       "      <td>$12,251.13</td>\n",
       "      <td>81</td>\n",
       "      <td>$151.25</td>\n",
       "    </tr>\n",
       "    <tr>\n",
       "      <th>2</th>\n",
       "      <td>ND</td>\n",
       "      <td>194 - SIMPLE PNEUMONIA &amp; PLEURISY W CC</td>\n",
       "      <td>$12,378.29</td>\n",
       "      <td>71</td>\n",
       "      <td>$174.34</td>\n",
       "    </tr>\n",
       "    <tr>\n",
       "      <th>3</th>\n",
       "      <td>ND</td>\n",
       "      <td>194 - SIMPLE PNEUMONIA &amp; PLEURISY W CC</td>\n",
       "      <td>$10,496.84</td>\n",
       "      <td>52</td>\n",
       "      <td>$201.86</td>\n",
       "    </tr>\n",
       "    <tr>\n",
       "      <th>4</th>\n",
       "      <td>ND</td>\n",
       "      <td>194 - SIMPLE PNEUMONIA &amp; PLEURISY W CC</td>\n",
       "      <td>$11,025.74</td>\n",
       "      <td>51</td>\n",
       "      <td>$216.19</td>\n",
       "    </tr>\n",
       "  </tbody>\n",
       "</table>\n",
       "</div>"
      ],
      "text/plain": [
       "  State                               Diagnosis  \\\n",
       "0    ND  194 - SIMPLE PNEUMONIA & PLEURISY W CC   \n",
       "1    ND  194 - SIMPLE PNEUMONIA & PLEURISY W CC   \n",
       "2    ND  194 - SIMPLE PNEUMONIA & PLEURISY W CC   \n",
       "3    ND  194 - SIMPLE PNEUMONIA & PLEURISY W CC   \n",
       "4    ND  194 - SIMPLE PNEUMONIA & PLEURISY W CC   \n",
       "\n",
       "   Provider's Average Charge Covered by Medicare  Total Discharges  \\\n",
       "0                                     $12,100.62                87   \n",
       "1                                     $12,251.13                81   \n",
       "2                                     $12,378.29                71   \n",
       "3                                     $10,496.84                52   \n",
       "4                                     $11,025.74                51   \n",
       "\n",
       "   Cost Per Discharge  \n",
       "0             $139.09  \n",
       "1             $151.25  \n",
       "2             $174.34  \n",
       "3             $201.86  \n",
       "4             $216.19  "
      ]
     },
     "execution_count": 21,
     "metadata": {},
     "output_type": "execute_result"
    }
   ],
   "source": [
    "# Extracting ND with Diagnosis 194 from DataFrame\n",
    "ND_state = proce_vs_cost[proce_vs_cost[\"State\"] == \"ND\"].reset_index(drop=True)\n",
    "ND_state_194 = ND_state[ND_state[\"Diagnosis\"] == \"194 - SIMPLE PNEUMONIA & PLEURISY W CC\"].reset_index(drop=True)\n",
    "\n",
    "# Sorting Total Discharges via descending\n",
    "ND_state_194_desc = ND_state_194.sort_values(by=[\"Total Discharges\"], ascending=False).reset_index(drop=True)\n",
    "ND_state_194_desc.head()"
   ]
  },
  {
   "cell_type": "code",
   "execution_count": 22,
   "metadata": {},
   "outputs": [
    {
     "data": {
      "image/png": "[encoded data removed]",
      "text/plain": [
       "<Figure size 432x288 with 1 Axes>"
      ]
     },
     "metadata": {},
     "output_type": "display_data"
    }
   ],
   "source": [
    "# Setting up variable values for pie plot\n",
    "sizes = ND_state_194_desc[\"Total Discharges\"]\n",
    "explode = (0.1,0,0,0,0,0,0)\n",
    "labels=[\"$139.09\",\"$151.25\",\"$174.34\",\"$201.86\",\"$216.19\",\"$293.41\",\"$1,078.67\"]\n",
    "\n",
    "# Pie plot where % represents the precentage of Total Discharges for each provider\n",
    "fig1, ax1 = plt.subplots()\n",
    "ax1.pie(sizes, explode=explode, labels=labels, autopct='%1.1f%%',shadow=True, startangle=45)\n",
    "ax1.axis('equal')\n",
    "plt.legend(loc=\"upper left\")\n",
    "plt.show()"
   ]
  },
  {
   "cell_type": "markdown",
   "metadata": {},
   "source": [
    "##### Bottom No. 5 AK (392 - ESOPHAGITIS, GASTROENT & MISC DIGEST DISORDERS W/O MCC)"
   ]
  },
  {
   "cell_type": "code",
   "execution_count": 23,
   "metadata": {},
   "outputs": [
    {
     "data": {
      "text/html": [
       "<div>\n",
       "<style scoped>\n",
       "    .dataframe tbody tr th:only-of-type {\n",
       "        vertical-align: middle;\n",
       "    }\n",
       "\n",
       "    .dataframe tbody tr th {\n",
       "        vertical-align: top;\n",
       "    }\n",
       "\n",
       "    .dataframe thead th {\n",
       "        text-align: right;\n",
       "    }\n",
       "</style>\n",
       "<table border=\"1\" class=\"dataframe\">\n",
       "  <thead>\n",
       "    <tr style=\"text-align: right;\">\n",
       "      <th></th>\n",
       "      <th>State</th>\n",
       "      <th>Diagnosis</th>\n",
       "      <th>Provider's Average Charge Covered by Medicare</th>\n",
       "      <th>Total Discharges</th>\n",
       "      <th>Cost Per Discharge</th>\n",
       "    </tr>\n",
       "  </thead>\n",
       "  <tbody>\n",
       "    <tr>\n",
       "      <th>0</th>\n",
       "      <td>AK</td>\n",
       "      <td>392 - ESOPHAGITIS, GASTROENT &amp; MISC DIGEST DIS...</td>\n",
       "      <td>$25,227.77</td>\n",
       "      <td>53</td>\n",
       "      <td>$476.00</td>\n",
       "    </tr>\n",
       "    <tr>\n",
       "      <th>1</th>\n",
       "      <td>AK</td>\n",
       "      <td>392 - ESOPHAGITIS, GASTROENT &amp; MISC DIGEST DIS...</td>\n",
       "      <td>$11,703.02</td>\n",
       "      <td>45</td>\n",
       "      <td>$260.07</td>\n",
       "    </tr>\n",
       "    <tr>\n",
       "      <th>2</th>\n",
       "      <td>AK</td>\n",
       "      <td>392 - ESOPHAGITIS, GASTROENT &amp; MISC DIGEST DIS...</td>\n",
       "      <td>$23,845.94</td>\n",
       "      <td>35</td>\n",
       "      <td>$681.31</td>\n",
       "    </tr>\n",
       "    <tr>\n",
       "      <th>3</th>\n",
       "      <td>AK</td>\n",
       "      <td>392 - ESOPHAGITIS, GASTROENT &amp; MISC DIGEST DIS...</td>\n",
       "      <td>$17,382.36</td>\n",
       "      <td>19</td>\n",
       "      <td>$914.86</td>\n",
       "    </tr>\n",
       "    <tr>\n",
       "      <th>4</th>\n",
       "      <td>AK</td>\n",
       "      <td>392 - ESOPHAGITIS, GASTROENT &amp; MISC DIGEST DIS...</td>\n",
       "      <td>$10,425.55</td>\n",
       "      <td>18</td>\n",
       "      <td>$579.20</td>\n",
       "    </tr>\n",
       "  </tbody>\n",
       "</table>\n",
       "</div>"
      ],
      "text/plain": [
       "  State                                          Diagnosis  \\\n",
       "0    AK  392 - ESOPHAGITIS, GASTROENT & MISC DIGEST DIS...   \n",
       "1    AK  392 - ESOPHAGITIS, GASTROENT & MISC DIGEST DIS...   \n",
       "2    AK  392 - ESOPHAGITIS, GASTROENT & MISC DIGEST DIS...   \n",
       "3    AK  392 - ESOPHAGITIS, GASTROENT & MISC DIGEST DIS...   \n",
       "4    AK  392 - ESOPHAGITIS, GASTROENT & MISC DIGEST DIS...   \n",
       "\n",
       "   Provider's Average Charge Covered by Medicare  Total Discharges  \\\n",
       "0                                     $25,227.77                53   \n",
       "1                                     $11,703.02                45   \n",
       "2                                     $23,845.94                35   \n",
       "3                                     $17,382.36                19   \n",
       "4                                     $10,425.55                18   \n",
       "\n",
       "   Cost Per Discharge  \n",
       "0             $476.00  \n",
       "1             $260.07  \n",
       "2             $681.31  \n",
       "3             $914.86  \n",
       "4             $579.20  "
      ]
     },
     "execution_count": 23,
     "metadata": {},
     "output_type": "execute_result"
    }
   ],
   "source": [
    "# Extracting AK with Diagnosis 392 from DataFrame\n",
    "AK_state = proce_vs_cost[proce_vs_cost[\"State\"] == \"AK\"].reset_index(drop=True)\n",
    "AK_state_392 = AK_state[AK_state[\"Diagnosis\"] == \"392 - ESOPHAGITIS, GASTROENT & MISC DIGEST DISORDERS W/O MCC\"].reset_index(drop=True)\n",
    "\n",
    "# Sorting Total Discharges via descending\n",
    "AK_state_392_desc = AK_state_392.sort_values(by=[\"Total Discharges\"], ascending=False).reset_index(drop=True)\n",
    "AK_state_392_desc.head()"
   ]
  },
  {
   "cell_type": "code",
   "execution_count": 24,
   "metadata": {},
   "outputs": [
    {
     "data": {
      "image/png": "[encoded data removed]",
      "text/plain": [
       "<Figure size 432x288 with 1 Axes>"
      ]
     },
     "metadata": {},
     "output_type": "display_data"
    }
   ],
   "source": [
    "# Setting up variable values for pie plot\n",
    "sizes = AK_state_392_desc[\"Total Discharges\"]\n",
    "explode = (0.1,0,0,0,0,0,0,0)\n",
    "labels=[\"$476.00\",\"$260.07\",\"$681.31\",\"$914.86\",\"$579.20\",\"$993.07\",\"$1,915.13\",\"$1,961.00\"]\n",
    "\n",
    "# Pie plot where % represents the precentage of Total Discharges for each provider\n",
    "fig1, ax1 = plt.subplots()\n",
    "ax1.pie(sizes, explode=explode, labels=labels, autopct='%1.1f%%',shadow=True, startangle=45)\n",
    "ax1.axis('equal')\n",
    "plt.legend(loc=\"upper left\")\n",
    "plt.show()"
   ]
  }
 ],
 "metadata": {
  "kernelspec": {
   "display_name": "Python [conda env:Anaconda3]",
   "language": "python",
   "name": "conda-env-Anaconda3-py"
  },
  "language_info": {
   "codemirror_mode": {
    "name": "ipython",
    "version": 3
   },
   "file_extension": ".py",
   "mimetype": "text/x-python",
   "name": "python",
   "nbconvert_exporter": "python",
   "pygments_lexer": "ipython3",
   "version": "3.7.0"
  }
 },
 "nbformat": 4,
 "nbformat_minor": 2
}
