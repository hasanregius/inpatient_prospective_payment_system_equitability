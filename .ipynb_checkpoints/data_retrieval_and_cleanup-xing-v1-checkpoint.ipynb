{
 "cells": [
  {
   "cell_type": "markdown",
   "metadata": {},
   "source": [
    "###### Team IPPS \n",
    "\n",
    "The API information can be accessed through this [link](https://data.cms.gov/Medicare-Inpatient/Inpatient-Prospective-Payment-System-IPPS-Provider/97k6-zzx3)\n",
    "\n",
    "Objectives (This will expand from just data frame formation to include cleanup by Jessie):\n",
    "1. Execute a successful pull of all of the data using the API provided into JSON\n",
    "2. Transform the JSON format into a data frame\n"
   ]
  },
  {
   "cell_type": "markdown",
   "metadata": {},
   "source": [
    "### Step 1: Installing sodapy, a python package, in jupyter"
   ]
  },
  {
   "cell_type": "code",
   "execution_count": 29,
   "metadata": {},
   "outputs": [],
   "source": [
    "# # Installing the package sodapy, important for retrieval using the API's detailed method\n",
    "# import sys\n",
    "# !{sys.executable} -m pip install sodapy"
   ]
  },
  {
   "cell_type": "markdown",
   "metadata": {},
   "source": [
    "### Step 2: Retrieving the dataset"
   ]
  },
  {
   "cell_type": "code",
   "execution_count": 30,
   "metadata": {},
   "outputs": [],
   "source": [
    "import sys\n",
    "import warnings\n",
    "warnings.filterwarnings('ignore')"
   ]
  },
  {
   "cell_type": "code",
   "execution_count": 31,
   "metadata": {
    "scrolled": true
   },
   "outputs": [
    {
     "data": {
      "text/html": [
       "<div>\n",
       "<style scoped>\n",
       "    .dataframe tbody tr th:only-of-type {\n",
       "        vertical-align: middle;\n",
       "    }\n",
       "\n",
       "    .dataframe tbody tr th {\n",
       "        vertical-align: top;\n",
       "    }\n",
       "\n",
       "    .dataframe thead th {\n",
       "        text-align: right;\n",
       "    }\n",
       "</style>\n",
       "<table border=\"1\" class=\"dataframe\">\n",
       "  <thead>\n",
       "    <tr style=\"text-align: right;\">\n",
       "      <th></th>\n",
       "      <th>average_covered_charges</th>\n",
       "      <th>average_medicare_payments</th>\n",
       "      <th>average_medicare_payments_2</th>\n",
       "      <th>drg_definition</th>\n",
       "      <th>hospital_referral_region_description</th>\n",
       "      <th>provider_city</th>\n",
       "      <th>provider_id</th>\n",
       "      <th>provider_name</th>\n",
       "      <th>provider_state</th>\n",
       "      <th>provider_street_address</th>\n",
       "      <th>provider_zip_code</th>\n",
       "      <th>total_discharges</th>\n",
       "    </tr>\n",
       "  </thead>\n",
       "  <tbody>\n",
       "    <tr>\n",
       "      <th>0</th>\n",
       "      <td>32963.07</td>\n",
       "      <td>5777.24</td>\n",
       "      <td>4763.73</td>\n",
       "      <td>039 - EXTRACRANIAL PROCEDURES W/O CC/MCC</td>\n",
       "      <td>AL - Dothan</td>\n",
       "      <td>DOTHAN</td>\n",
       "      <td>10001</td>\n",
       "      <td>SOUTHEAST ALABAMA MEDICAL CENTER</td>\n",
       "      <td>AL</td>\n",
       "      <td>1108 ROSS CLARK CIRCLE</td>\n",
       "      <td>36301</td>\n",
       "      <td>91</td>\n",
       "    </tr>\n",
       "    <tr>\n",
       "      <th>1</th>\n",
       "      <td>15131.85</td>\n",
       "      <td>5787.57</td>\n",
       "      <td>4976.71</td>\n",
       "      <td>039 - EXTRACRANIAL PROCEDURES W/O CC/MCC</td>\n",
       "      <td>AL - Birmingham</td>\n",
       "      <td>BOAZ</td>\n",
       "      <td>10005</td>\n",
       "      <td>MARSHALL MEDICAL CENTER SOUTH</td>\n",
       "      <td>AL</td>\n",
       "      <td>2505 U S HIGHWAY 431 NORTH</td>\n",
       "      <td>35957</td>\n",
       "      <td>14</td>\n",
       "    </tr>\n",
       "    <tr>\n",
       "      <th>2</th>\n",
       "      <td>37560.37</td>\n",
       "      <td>5434.95</td>\n",
       "      <td>4453.79</td>\n",
       "      <td>039 - EXTRACRANIAL PROCEDURES W/O CC/MCC</td>\n",
       "      <td>AL - Birmingham</td>\n",
       "      <td>FLORENCE</td>\n",
       "      <td>10006</td>\n",
       "      <td>ELIZA COFFEE MEMORIAL HOSPITAL</td>\n",
       "      <td>AL</td>\n",
       "      <td>205 MARENGO STREET</td>\n",
       "      <td>35631</td>\n",
       "      <td>24</td>\n",
       "    </tr>\n",
       "    <tr>\n",
       "      <th>3</th>\n",
       "      <td>13998.28</td>\n",
       "      <td>5417.56</td>\n",
       "      <td>4129.16</td>\n",
       "      <td>039 - EXTRACRANIAL PROCEDURES W/O CC/MCC</td>\n",
       "      <td>AL - Birmingham</td>\n",
       "      <td>BIRMINGHAM</td>\n",
       "      <td>10011</td>\n",
       "      <td>ST VINCENT'S EAST</td>\n",
       "      <td>AL</td>\n",
       "      <td>50 MEDICAL PARK EAST DRIVE</td>\n",
       "      <td>35235</td>\n",
       "      <td>25</td>\n",
       "    </tr>\n",
       "    <tr>\n",
       "      <th>4</th>\n",
       "      <td>31633.27</td>\n",
       "      <td>5658.33</td>\n",
       "      <td>4851.44</td>\n",
       "      <td>039 - EXTRACRANIAL PROCEDURES W/O CC/MCC</td>\n",
       "      <td>AL - Birmingham</td>\n",
       "      <td>ALABASTER</td>\n",
       "      <td>10016</td>\n",
       "      <td>SHELBY BAPTIST MEDICAL CENTER</td>\n",
       "      <td>AL</td>\n",
       "      <td>1000 FIRST STREET NORTH</td>\n",
       "      <td>35007</td>\n",
       "      <td>18</td>\n",
       "    </tr>\n",
       "  </tbody>\n",
       "</table>\n",
       "</div>"
      ],
      "text/plain": [
       "  average_covered_charges average_medicare_payments  \\\n",
       "0                32963.07                   5777.24   \n",
       "1                15131.85                   5787.57   \n",
       "2                37560.37                   5434.95   \n",
       "3                13998.28                   5417.56   \n",
       "4                31633.27                   5658.33   \n",
       "\n",
       "  average_medicare_payments_2                            drg_definition  \\\n",
       "0                     4763.73  039 - EXTRACRANIAL PROCEDURES W/O CC/MCC   \n",
       "1                     4976.71  039 - EXTRACRANIAL PROCEDURES W/O CC/MCC   \n",
       "2                     4453.79  039 - EXTRACRANIAL PROCEDURES W/O CC/MCC   \n",
       "3                     4129.16  039 - EXTRACRANIAL PROCEDURES W/O CC/MCC   \n",
       "4                     4851.44  039 - EXTRACRANIAL PROCEDURES W/O CC/MCC   \n",
       "\n",
       "  hospital_referral_region_description provider_city provider_id  \\\n",
       "0                          AL - Dothan        DOTHAN       10001   \n",
       "1                      AL - Birmingham          BOAZ       10005   \n",
       "2                      AL - Birmingham      FLORENCE       10006   \n",
       "3                      AL - Birmingham    BIRMINGHAM       10011   \n",
       "4                      AL - Birmingham     ALABASTER       10016   \n",
       "\n",
       "                      provider_name provider_state  \\\n",
       "0  SOUTHEAST ALABAMA MEDICAL CENTER             AL   \n",
       "1     MARSHALL MEDICAL CENTER SOUTH             AL   \n",
       "2    ELIZA COFFEE MEMORIAL HOSPITAL             AL   \n",
       "3                 ST VINCENT'S EAST             AL   \n",
       "4     SHELBY BAPTIST MEDICAL CENTER             AL   \n",
       "\n",
       "      provider_street_address provider_zip_code total_discharges  \n",
       "0      1108 ROSS CLARK CIRCLE             36301               91  \n",
       "1  2505 U S HIGHWAY 431 NORTH             35957               14  \n",
       "2          205 MARENGO STREET             35631               24  \n",
       "3  50 MEDICAL PARK EAST DRIVE             35235               25  \n",
       "4     1000 FIRST STREET NORTH             35007               18  "
      ]
     },
     "execution_count": 31,
     "metadata": {},
     "output_type": "execute_result"
    }
   ],
   "source": [
    "# The API link\n",
    "link = \"https://data.cms.gov/resource/ehrv-m9r6.json\"\n",
    "\n",
    "# The app token\n",
    "key = \"oBbcgRhXZS4dqtTJVyz6zQujv\"\n",
    "\n",
    "# Code snippet for data retrieval using python, as provided by the API information page\n",
    "import numpy as np\n",
    "import pandas as pd\n",
    "import matplotlib.pyplot as plt\n",
    "from sodapy import Socrata\n",
    "\n",
    "# Unauthenticated client only works with public data sets. Note 'None'\n",
    "# in place of application token, and no username or password:\n",
    "client = Socrata(\"data.cms.gov\", key)\n",
    "\n",
    "# Example authenticated client (needed for non-public datasets):\n",
    "# client = Socrata(data.cms.gov,\n",
    "#                  MyAppToken,\n",
    "#                  userame=\"user@example.com\",\n",
    "#                  password=\"AFakePassword\")\n",
    "\n",
    "# First 2000 results, returned as JSON from API / converted to Python list of\n",
    "# dictionaries by sodapy.\n",
    "results = client.get(\"ehrv-m9r6\", limit=163065)\n",
    "\n",
    "# Convert to pandas DataFrame\n",
    "results_df = pd.DataFrame.from_records(results)\n",
    "\n",
    "# Checking the head of the data frame\n",
    "results_df.head()"
   ]
  },
  {
   "cell_type": "markdown",
   "metadata": {},
   "source": [
    "# 1) state vs provider count, we will find each state's total number of providers(hospitals)"
   ]
  },
  {
   "cell_type": "code",
   "execution_count": 32,
   "metadata": {
    "scrolled": true
   },
   "outputs": [
    {
     "data": {
      "text/html": [
       "<div>\n",
       "<style scoped>\n",
       "    .dataframe tbody tr th:only-of-type {\n",
       "        vertical-align: middle;\n",
       "    }\n",
       "\n",
       "    .dataframe tbody tr th {\n",
       "        vertical-align: top;\n",
       "    }\n",
       "\n",
       "    .dataframe thead th {\n",
       "        text-align: right;\n",
       "    }\n",
       "</style>\n",
       "<table border=\"1\" class=\"dataframe\">\n",
       "  <thead>\n",
       "    <tr style=\"text-align: right;\">\n",
       "      <th></th>\n",
       "      <th>State</th>\n",
       "      <th>Number of Providers</th>\n",
       "    </tr>\n",
       "  </thead>\n",
       "  <tbody>\n",
       "    <tr>\n",
       "      <th>0</th>\n",
       "      <td>AK</td>\n",
       "      <td>9</td>\n",
       "    </tr>\n",
       "    <tr>\n",
       "      <th>1</th>\n",
       "      <td>AL</td>\n",
       "      <td>93</td>\n",
       "    </tr>\n",
       "    <tr>\n",
       "      <th>2</th>\n",
       "      <td>AR</td>\n",
       "      <td>45</td>\n",
       "    </tr>\n",
       "    <tr>\n",
       "      <th>3</th>\n",
       "      <td>AZ</td>\n",
       "      <td>61</td>\n",
       "    </tr>\n",
       "    <tr>\n",
       "      <th>4</th>\n",
       "      <td>CA</td>\n",
       "      <td>295</td>\n",
       "    </tr>\n",
       "  </tbody>\n",
       "</table>\n",
       "</div>"
      ],
      "text/plain": [
       "  State  Number of Providers\n",
       "0    AK                    9\n",
       "1    AL                   93\n",
       "2    AR                   45\n",
       "3    AZ                   61\n",
       "4    CA                  295"
      ]
     },
     "execution_count": 32,
     "metadata": {},
     "output_type": "execute_result"
    }
   ],
   "source": [
    "# Extract \"provider_state\" and \"provider_name\" from results_df and groupby \"provider_state\"\n",
    "results_state_no_hosp = results_df[[\"provider_state\",\"provider_name\"]].groupby([\"provider_state\"])\n",
    "results_state_no_hosp_data = pd.DataFrame(results_state_no_hosp[\"provider_name\"].nunique())\n",
    "results_state_no_hosp_data = results_state_no_hosp_data.reset_index()\n",
    "results_state_no_hosp_data = results_state_no_hosp_data.rename\\\n",
    "(columns={\"provider_state\":\"State\", \"provider_name\":\"Number of Providers\"})\n",
    "results_state_no_hosp_data.head()"
   ]
  },
  {
   "cell_type": "code",
   "execution_count": null,
   "metadata": {},
   "outputs": [],
   "source": [
    "# results_state_no_hosp_x = np.arange(len(results_state_no_hosp_data))\n",
    "# results_state_no_hosp_data = sns.load_dataset(results_state_no_hosp_data.provider_name)\n",
    "# ax = sns.barplot(data = results_state_no_hosp_data)\n",
    "# sns.set(style=\"darkgrid\")\n"
   ]
  },
  {
   "cell_type": "code",
   "execution_count": null,
   "metadata": {},
   "outputs": [],
   "source": [
    "# # %matplotlib notebook\n",
    "# results_state_no_hosp_x = np.arange(len(results_state_no_hosp_data))\n",
    "# plt.bar(results_state_no_hosp_x, results_state_no_hosp_data.provider_name, width = 0.8)\n",
    "# # plot(figsize=(20,4))\n",
    "# # tick_locations = [value for value in results_state_no_hosp_x]\n",
    "# plt.xticks(results_state_no_hosp_x, results_state_no_hosp_data.provider_state, rotation=90)\n",
    "# plt.show()"
   ]
  },
  {
   "cell_type": "code",
   "execution_count": null,
   "metadata": {
    "scrolled": true
   },
   "outputs": [],
   "source": [
    "# # Sorting the results by the number of providers by state from highest to lowest\n",
    "# results_state_no_hosp_data = results_state_no_hosp_data.sort_values(by=\"provider_name\", ascending = False)\n",
    "# results_state_no_hosp_data.head()"
   ]
  },
  {
   "cell_type": "code",
   "execution_count": 33,
   "metadata": {
    "scrolled": true
   },
   "outputs": [
    {
     "data": {
      "image/png": "[encoded data removed]",
      "text/plain": [
       "<Figure size 1440x360 with 1 Axes>"
      ]
     },
     "metadata": {
      "needs_background": "light"
     },
     "output_type": "display_data"
    }
   ],
   "source": [
    "state_plot = results_state_no_hosp_data.plot(kind=\"bar\", figsize=(20,5))\n",
    "state_plot.set_xticklabels(results_state_no_hosp_data[\"State\"], rotation=45)\n",
    "plt.show()"
   ]
  },
  {
   "cell_type": "markdown",
   "metadata": {},
   "source": [
    "# 2) state vs total discharges, we will find how many procedures each state do"
   ]
  },
  {
   "cell_type": "code",
   "execution_count": 34,
   "metadata": {
    "scrolled": true
   },
   "outputs": [
    {
     "data": {
      "text/html": [
       "<div>\n",
       "<style scoped>\n",
       "    .dataframe tbody tr th:only-of-type {\n",
       "        vertical-align: middle;\n",
       "    }\n",
       "\n",
       "    .dataframe tbody tr th {\n",
       "        vertical-align: top;\n",
       "    }\n",
       "\n",
       "    .dataframe thead th {\n",
       "        text-align: right;\n",
       "    }\n",
       "</style>\n",
       "<table border=\"1\" class=\"dataframe\">\n",
       "  <thead>\n",
       "    <tr style=\"text-align: right;\">\n",
       "      <th></th>\n",
       "      <th>State</th>\n",
       "      <th>Total Number of Discharges</th>\n",
       "    </tr>\n",
       "  </thead>\n",
       "  <tbody>\n",
       "    <tr>\n",
       "      <th>0</th>\n",
       "      <td>AK</td>\n",
       "      <td>6142.0</td>\n",
       "    </tr>\n",
       "    <tr>\n",
       "      <th>1</th>\n",
       "      <td>AL</td>\n",
       "      <td>142704.0</td>\n",
       "    </tr>\n",
       "    <tr>\n",
       "      <th>2</th>\n",
       "      <td>AR</td>\n",
       "      <td>86769.0</td>\n",
       "    </tr>\n",
       "    <tr>\n",
       "      <th>3</th>\n",
       "      <td>AZ</td>\n",
       "      <td>104604.0</td>\n",
       "    </tr>\n",
       "    <tr>\n",
       "      <th>4</th>\n",
       "      <td>CA</td>\n",
       "      <td>474979.0</td>\n",
       "    </tr>\n",
       "  </tbody>\n",
       "</table>\n",
       "</div>"
      ],
      "text/plain": [
       "  State  Total Number of Discharges\n",
       "0    AK                      6142.0\n",
       "1    AL                    142704.0\n",
       "2    AR                     86769.0\n",
       "3    AZ                    104604.0\n",
       "4    CA                    474979.0"
      ]
     },
     "execution_count": 34,
     "metadata": {},
     "output_type": "execute_result"
    }
   ],
   "source": [
    "# Extract \"provider_state\" and \"total_discharges\" from results_df and groupby \"provider_state\"\n",
    "results_state_total_discharge = results_df[[\"provider_state\",\"total_discharges\"]]\n",
    "results_state_total_discharge[\"total_discharges\"] = pd.Series(results_state_total_discharge[\"total_discharges\"])\n",
    "results_state_total_discharge[\"total_discharges\"] = pd.to_numeric(results_state_total_discharge[\"total_discharges\"], downcast='float')\n",
    "results_state_total_discharge = results_state_total_discharge[[\"provider_state\",\"total_discharges\"]].groupby([\"provider_state\"])\n",
    "\n",
    "# Summing up total_discharges per state\n",
    "results_state_total_discharge = pd.DataFrame(results_state_total_discharge[\"total_discharges\"].sum())\n",
    "results_state_total_discharge = results_state_total_discharge.reset_index()\n",
    "results_state_total_discharge = results_state_total_discharge.rename\\\n",
    "(columns={\"provider_state\":\"State\", \"total_discharges\":\"Total Number of Discharges\"})\n",
    "results_state_total_discharge.head()"
   ]
  },
  {
   "cell_type": "code",
   "execution_count": 35,
   "metadata": {},
   "outputs": [
    {
     "data": {
      "image/png": "[encoded data removed]",
      "text/plain": [
       "<Figure size 1440x360 with 1 Axes>"
      ]
     },
     "metadata": {
      "needs_background": "light"
     },
     "output_type": "display_data"
    }
   ],
   "source": [
    "state_plot = results_state_total_discharge.plot(kind=\"bar\", figsize=(20,5))\n",
    "state_plot.set_xticklabels(results_state_total_discharge[\"State\"], rotation=45)\n",
    "plt.show()"
   ]
  },
  {
   "cell_type": "code",
   "execution_count": 36,
   "metadata": {},
   "outputs": [
    {
     "data": {
      "text/html": [
       "<div>\n",
       "<style scoped>\n",
       "    .dataframe tbody tr th:only-of-type {\n",
       "        vertical-align: middle;\n",
       "    }\n",
       "\n",
       "    .dataframe tbody tr th {\n",
       "        vertical-align: top;\n",
       "    }\n",
       "\n",
       "    .dataframe thead th {\n",
       "        text-align: right;\n",
       "    }\n",
       "</style>\n",
       "<table border=\"1\" class=\"dataframe\">\n",
       "  <thead>\n",
       "    <tr style=\"text-align: right;\">\n",
       "      <th></th>\n",
       "      <th>total_discharges</th>\n",
       "    </tr>\n",
       "    <tr>\n",
       "      <th>provider_state</th>\n",
       "      <th></th>\n",
       "    </tr>\n",
       "  </thead>\n",
       "  <tbody>\n",
       "    <tr>\n",
       "      <th>FL</th>\n",
       "      <td>536859.0</td>\n",
       "    </tr>\n",
       "    <tr>\n",
       "      <th>TX</th>\n",
       "      <td>479939.0</td>\n",
       "    </tr>\n",
       "    <tr>\n",
       "      <th>CA</th>\n",
       "      <td>474979.0</td>\n",
       "    </tr>\n",
       "    <tr>\n",
       "      <th>NY</th>\n",
       "      <td>435557.0</td>\n",
       "    </tr>\n",
       "    <tr>\n",
       "      <th>IL</th>\n",
       "      <td>361603.0</td>\n",
       "    </tr>\n",
       "  </tbody>\n",
       "</table>\n",
       "</div>"
      ],
      "text/plain": [
       "                total_discharges\n",
       "provider_state                  \n",
       "FL                      536859.0\n",
       "TX                      479939.0\n",
       "CA                      474979.0\n",
       "NY                      435557.0\n",
       "IL                      361603.0"
      ]
     },
     "execution_count": 36,
     "metadata": {},
     "output_type": "execute_result"
    }
   ],
   "source": [
    "# Sorting the results by the total_discharges by state from highest to lowest\n",
    "resultsSVPCTD_data = resultsSVPCTD.sort_values(by=\"total_discharges\", ascending = False)\n",
    "resultsSVPCTD_data.head()"
   ]
  },
  {
   "cell_type": "code",
   "execution_count": null,
   "metadata": {},
   "outputs": [],
   "source": []
  },
  {
   "cell_type": "code",
   "execution_count": 40,
   "metadata": {
    "scrolled": true
   },
   "outputs": [
    {
     "data": {
      "text/html": [
       "<div>\n",
       "<style scoped>\n",
       "    .dataframe tbody tr th:only-of-type {\n",
       "        vertical-align: middle;\n",
       "    }\n",
       "\n",
       "    .dataframe tbody tr th {\n",
       "        vertical-align: top;\n",
       "    }\n",
       "\n",
       "    .dataframe thead th {\n",
       "        text-align: right;\n",
       "    }\n",
       "</style>\n",
       "<table border=\"1\" class=\"dataframe\">\n",
       "  <thead>\n",
       "    <tr style=\"text-align: right;\">\n",
       "      <th></th>\n",
       "      <th>State</th>\n",
       "      <th>Number of Providers</th>\n",
       "      <th>Total Number of Discharges</th>\n",
       "    </tr>\n",
       "  </thead>\n",
       "  <tbody>\n",
       "    <tr>\n",
       "      <th>0</th>\n",
       "      <td>AK</td>\n",
       "      <td>9</td>\n",
       "      <td>6.142000</td>\n",
       "    </tr>\n",
       "    <tr>\n",
       "      <th>1</th>\n",
       "      <td>AL</td>\n",
       "      <td>93</td>\n",
       "      <td>142.703995</td>\n",
       "    </tr>\n",
       "    <tr>\n",
       "      <th>2</th>\n",
       "      <td>AR</td>\n",
       "      <td>45</td>\n",
       "      <td>86.768997</td>\n",
       "    </tr>\n",
       "    <tr>\n",
       "      <th>3</th>\n",
       "      <td>AZ</td>\n",
       "      <td>61</td>\n",
       "      <td>104.603996</td>\n",
       "    </tr>\n",
       "    <tr>\n",
       "      <th>4</th>\n",
       "      <td>CA</td>\n",
       "      <td>295</td>\n",
       "      <td>474.979004</td>\n",
       "    </tr>\n",
       "    <tr>\n",
       "      <th>5</th>\n",
       "      <td>CO</td>\n",
       "      <td>45</td>\n",
       "      <td>61.320000</td>\n",
       "    </tr>\n",
       "    <tr>\n",
       "      <th>6</th>\n",
       "      <td>CT</td>\n",
       "      <td>31</td>\n",
       "      <td>96.258003</td>\n",
       "    </tr>\n",
       "    <tr>\n",
       "      <th>7</th>\n",
       "      <td>DC</td>\n",
       "      <td>7</td>\n",
       "      <td>20.306999</td>\n",
       "    </tr>\n",
       "    <tr>\n",
       "      <th>8</th>\n",
       "      <td>DE</td>\n",
       "      <td>6</td>\n",
       "      <td>26.753000</td>\n",
       "    </tr>\n",
       "    <tr>\n",
       "      <th>9</th>\n",
       "      <td>FL</td>\n",
       "      <td>166</td>\n",
       "      <td>536.859009</td>\n",
       "    </tr>\n",
       "    <tr>\n",
       "      <th>10</th>\n",
       "      <td>GA</td>\n",
       "      <td>106</td>\n",
       "      <td>191.242004</td>\n",
       "    </tr>\n",
       "    <tr>\n",
       "      <th>11</th>\n",
       "      <td>HI</td>\n",
       "      <td>14</td>\n",
       "      <td>11.712000</td>\n",
       "    </tr>\n",
       "    <tr>\n",
       "      <th>12</th>\n",
       "      <td>IA</td>\n",
       "      <td>34</td>\n",
       "      <td>68.783997</td>\n",
       "    </tr>\n",
       "    <tr>\n",
       "      <th>13</th>\n",
       "      <td>ID</td>\n",
       "      <td>13</td>\n",
       "      <td>18.295000</td>\n",
       "    </tr>\n",
       "    <tr>\n",
       "      <th>14</th>\n",
       "      <td>IL</td>\n",
       "      <td>126</td>\n",
       "      <td>361.602997</td>\n",
       "    </tr>\n",
       "    <tr>\n",
       "      <th>15</th>\n",
       "      <td>IN</td>\n",
       "      <td>87</td>\n",
       "      <td>182.572998</td>\n",
       "    </tr>\n",
       "    <tr>\n",
       "      <th>16</th>\n",
       "      <td>KS</td>\n",
       "      <td>54</td>\n",
       "      <td>61.799999</td>\n",
       "    </tr>\n",
       "    <tr>\n",
       "      <th>17</th>\n",
       "      <td>KY</td>\n",
       "      <td>65</td>\n",
       "      <td>152.572006</td>\n",
       "    </tr>\n",
       "    <tr>\n",
       "      <th>18</th>\n",
       "      <td>LA</td>\n",
       "      <td>89</td>\n",
       "      <td>109.875999</td>\n",
       "    </tr>\n",
       "    <tr>\n",
       "      <th>19</th>\n",
       "      <td>MA</td>\n",
       "      <td>60</td>\n",
       "      <td>193.679993</td>\n",
       "    </tr>\n",
       "    <tr>\n",
       "      <th>20</th>\n",
       "      <td>MD</td>\n",
       "      <td>45</td>\n",
       "      <td>173.011002</td>\n",
       "    </tr>\n",
       "    <tr>\n",
       "      <th>21</th>\n",
       "      <td>ME</td>\n",
       "      <td>21</td>\n",
       "      <td>33.113998</td>\n",
       "    </tr>\n",
       "    <tr>\n",
       "      <th>22</th>\n",
       "      <td>MI</td>\n",
       "      <td>92</td>\n",
       "      <td>295.552002</td>\n",
       "    </tr>\n",
       "    <tr>\n",
       "      <th>23</th>\n",
       "      <td>MN</td>\n",
       "      <td>50</td>\n",
       "      <td>95.666000</td>\n",
       "    </tr>\n",
       "    <tr>\n",
       "      <th>24</th>\n",
       "      <td>MO</td>\n",
       "      <td>75</td>\n",
       "      <td>178.826004</td>\n",
       "    </tr>\n",
       "    <tr>\n",
       "      <th>25</th>\n",
       "      <td>MS</td>\n",
       "      <td>61</td>\n",
       "      <td>93.223000</td>\n",
       "    </tr>\n",
       "    <tr>\n",
       "      <th>26</th>\n",
       "      <td>MT</td>\n",
       "      <td>13</td>\n",
       "      <td>15.705000</td>\n",
       "    </tr>\n",
       "    <tr>\n",
       "      <th>27</th>\n",
       "      <td>NC</td>\n",
       "      <td>88</td>\n",
       "      <td>257.312012</td>\n",
       "    </tr>\n",
       "    <tr>\n",
       "      <th>28</th>\n",
       "      <td>ND</td>\n",
       "      <td>7</td>\n",
       "      <td>16.424999</td>\n",
       "    </tr>\n",
       "    <tr>\n",
       "      <th>29</th>\n",
       "      <td>NE</td>\n",
       "      <td>23</td>\n",
       "      <td>39.799000</td>\n",
       "    </tr>\n",
       "    <tr>\n",
       "      <th>30</th>\n",
       "      <td>NH</td>\n",
       "      <td>13</td>\n",
       "      <td>28.419001</td>\n",
       "    </tr>\n",
       "    <tr>\n",
       "      <th>31</th>\n",
       "      <td>NJ</td>\n",
       "      <td>64</td>\n",
       "      <td>251.207001</td>\n",
       "    </tr>\n",
       "    <tr>\n",
       "      <th>32</th>\n",
       "      <td>NM</td>\n",
       "      <td>32</td>\n",
       "      <td>26.924999</td>\n",
       "    </tr>\n",
       "    <tr>\n",
       "      <th>33</th>\n",
       "      <td>NV</td>\n",
       "      <td>21</td>\n",
       "      <td>42.599998</td>\n",
       "    </tr>\n",
       "    <tr>\n",
       "      <th>34</th>\n",
       "      <td>NY</td>\n",
       "      <td>161</td>\n",
       "      <td>435.557007</td>\n",
       "    </tr>\n",
       "    <tr>\n",
       "      <th>35</th>\n",
       "      <td>OH</td>\n",
       "      <td>131</td>\n",
       "      <td>293.471985</td>\n",
       "    </tr>\n",
       "    <tr>\n",
       "      <th>36</th>\n",
       "      <td>OK</td>\n",
       "      <td>85</td>\n",
       "      <td>97.292000</td>\n",
       "    </tr>\n",
       "    <tr>\n",
       "      <th>37</th>\n",
       "      <td>OR</td>\n",
       "      <td>32</td>\n",
       "      <td>39.546001</td>\n",
       "    </tr>\n",
       "    <tr>\n",
       "      <th>38</th>\n",
       "      <td>PA</td>\n",
       "      <td>151</td>\n",
       "      <td>314.936005</td>\n",
       "    </tr>\n",
       "    <tr>\n",
       "      <th>39</th>\n",
       "      <td>RI</td>\n",
       "      <td>11</td>\n",
       "      <td>22.289000</td>\n",
       "    </tr>\n",
       "    <tr>\n",
       "      <th>40</th>\n",
       "      <td>SC</td>\n",
       "      <td>56</td>\n",
       "      <td>121.392998</td>\n",
       "    </tr>\n",
       "    <tr>\n",
       "      <th>41</th>\n",
       "      <td>SD</td>\n",
       "      <td>18</td>\n",
       "      <td>20.108999</td>\n",
       "    </tr>\n",
       "    <tr>\n",
       "      <th>42</th>\n",
       "      <td>TN</td>\n",
       "      <td>97</td>\n",
       "      <td>189.065002</td>\n",
       "    </tr>\n",
       "    <tr>\n",
       "      <th>43</th>\n",
       "      <td>TX</td>\n",
       "      <td>308</td>\n",
       "      <td>479.938995</td>\n",
       "    </tr>\n",
       "    <tr>\n",
       "      <th>44</th>\n",
       "      <td>UT</td>\n",
       "      <td>29</td>\n",
       "      <td>23.052000</td>\n",
       "    </tr>\n",
       "    <tr>\n",
       "      <th>45</th>\n",
       "      <td>VA</td>\n",
       "      <td>76</td>\n",
       "      <td>193.399002</td>\n",
       "    </tr>\n",
       "    <tr>\n",
       "      <th>46</th>\n",
       "      <td>VT</td>\n",
       "      <td>6</td>\n",
       "      <td>10.071000</td>\n",
       "    </tr>\n",
       "    <tr>\n",
       "      <th>47</th>\n",
       "      <td>WA</td>\n",
       "      <td>46</td>\n",
       "      <td>107.011002</td>\n",
       "    </tr>\n",
       "    <tr>\n",
       "      <th>48</th>\n",
       "      <td>WI</td>\n",
       "      <td>64</td>\n",
       "      <td>100.068001</td>\n",
       "    </tr>\n",
       "    <tr>\n",
       "      <th>49</th>\n",
       "      <td>WV</td>\n",
       "      <td>32</td>\n",
       "      <td>64.968002</td>\n",
       "    </tr>\n",
       "    <tr>\n",
       "      <th>50</th>\n",
       "      <td>WY</td>\n",
       "      <td>11</td>\n",
       "      <td>6.535000</td>\n",
       "    </tr>\n",
       "  </tbody>\n",
       "</table>\n",
       "</div>"
      ],
      "text/plain": [
       "   State  Number of Providers  Total Number of Discharges\n",
       "0     AK                    9                    6.142000\n",
       "1     AL                   93                  142.703995\n",
       "2     AR                   45                   86.768997\n",
       "3     AZ                   61                  104.603996\n",
       "4     CA                  295                  474.979004\n",
       "5     CO                   45                   61.320000\n",
       "6     CT                   31                   96.258003\n",
       "7     DC                    7                   20.306999\n",
       "8     DE                    6                   26.753000\n",
       "9     FL                  166                  536.859009\n",
       "10    GA                  106                  191.242004\n",
       "11    HI                   14                   11.712000\n",
       "12    IA                   34                   68.783997\n",
       "13    ID                   13                   18.295000\n",
       "14    IL                  126                  361.602997\n",
       "15    IN                   87                  182.572998\n",
       "16    KS                   54                   61.799999\n",
       "17    KY                   65                  152.572006\n",
       "18    LA                   89                  109.875999\n",
       "19    MA                   60                  193.679993\n",
       "20    MD                   45                  173.011002\n",
       "21    ME                   21                   33.113998\n",
       "22    MI                   92                  295.552002\n",
       "23    MN                   50                   95.666000\n",
       "24    MO                   75                  178.826004\n",
       "25    MS                   61                   93.223000\n",
       "26    MT                   13                   15.705000\n",
       "27    NC                   88                  257.312012\n",
       "28    ND                    7                   16.424999\n",
       "29    NE                   23                   39.799000\n",
       "30    NH                   13                   28.419001\n",
       "31    NJ                   64                  251.207001\n",
       "32    NM                   32                   26.924999\n",
       "33    NV                   21                   42.599998\n",
       "34    NY                  161                  435.557007\n",
       "35    OH                  131                  293.471985\n",
       "36    OK                   85                   97.292000\n",
       "37    OR                   32                   39.546001\n",
       "38    PA                  151                  314.936005\n",
       "39    RI                   11                   22.289000\n",
       "40    SC                   56                  121.392998\n",
       "41    SD                   18                   20.108999\n",
       "42    TN                   97                  189.065002\n",
       "43    TX                  308                  479.938995\n",
       "44    UT                   29                   23.052000\n",
       "45    VA                   76                  193.399002\n",
       "46    VT                    6                   10.071000\n",
       "47    WA                   46                  107.011002\n",
       "48    WI                   64                  100.068001\n",
       "49    WV                   32                   64.968002\n",
       "50    WY                   11                    6.535000"
      ]
     },
     "execution_count": 40,
     "metadata": {},
     "output_type": "execute_result"
    }
   ],
   "source": [
    "results_state_hosp_discharge = pd.merge(results_state_no_hosp_data,results_state_total_discharge, on=\"State\")\n",
    "results_state_hosp_discharge[\"Total Number of Discharges\"] = results_state_hosp_discharge[\"Total Number of Discharges\"]/1000\n",
    "results_state_hosp_discharge"
   ]
  },
  {
   "cell_type": "code",
   "execution_count": 41,
   "metadata": {},
   "outputs": [
    {
     "data": {
      "image/png": "[encoded data removed]",
      "text/plain": [
       "<Figure size 1440x360 with 1 Axes>"
      ]
     },
     "metadata": {
      "needs_background": "light"
     },
     "output_type": "display_data"
    }
   ],
   "source": [
    "state_hosp_discharge_plot = results_state_hosp_discharge.plot(kind=\"bar\", figsize=(20,5));\n",
    "state_hosp_discharge_plot.set_xticklabels(results_state_hosp_discharge.State, rotation=45)\n",
    "plt.show()"
   ]
  },
  {
   "cell_type": "code",
   "execution_count": null,
   "metadata": {},
   "outputs": [],
   "source": []
  },
  {
   "cell_type": "markdown",
   "metadata": {},
   "source": [
    "# 3) state discharge vs drg code count, we want to find which state does the most number of procedures"
   ]
  },
  {
   "cell_type": "code",
   "execution_count": null,
   "metadata": {},
   "outputs": [],
   "source": [
    "# Extract \"provider_state\" and \"drg_definition\" from results_df and groupby \"provider_state\"\n",
    "resultsSVdd = results_df[[\"provider_state\",\"drg_definition\"]].groupby([\"provider_state\"])\n",
    "\n",
    "resultsSVdd = pd.DataFrame(resultsSVdd[\"drg_definition\"].count())\n",
    "resultsSVdd.head()"
   ]
  },
  {
   "cell_type": "code",
   "execution_count": null,
   "metadata": {},
   "outputs": [],
   "source": [
    "# Sorting the results by the drg_definition by state from highest to lowest\n",
    "resultsSVdd = resultsSVdd.sort_values(by=\"drg_definition\", ascending = False)\n",
    "resultsSVdd.head()"
   ]
  },
  {
   "cell_type": "markdown",
   "metadata": {},
   "source": [
    "# 4) drg code count by state, we want to find which state does what type of procedures the most"
   ]
  },
  {
   "cell_type": "code",
   "execution_count": null,
   "metadata": {
    "scrolled": true
   },
   "outputs": [],
   "source": [
    "resultGB = results_df.groupby([\"provider_state\",\"drg_definition\"])#.size().reset_index(name='DRG counts')\n",
    "drgCtByState = pd.DataFrame(resultGB[\"provider_id\"].count())\n",
    "drgCtByState.rename(columns = {\"provider_id\": \"Provider Count\"}, inplace = True)\n",
    "drgCtByState[\"Rank\"]= drgCtByState[\"Provider Count\"].rank(method='max')\n",
    "drgCtByStateRN = drgCtByState.sort_values(by=\"Rank\", ascending = False)\n",
    "drgCtByStateRN"
   ]
  },
  {
   "cell_type": "code",
   "execution_count": null,
   "metadata": {},
   "outputs": [],
   "source": []
  },
  {
   "cell_type": "code",
   "execution_count": null,
   "metadata": {
    "scrolled": true
   },
   "outputs": [],
   "source": [
    "idx"
   ]
  },
  {
   "cell_type": "markdown",
   "metadata": {},
   "source": [
    "# Method 01\n",
    "## No Duplicates"
   ]
  },
  {
   "cell_type": "code",
   "execution_count": null,
   "metadata": {
    "scrolled": true
   },
   "outputs": [],
   "source": [
    "idx = drgCtByStateRN.reset_index().groupby(\"provider_state\")[\"Provider Count\"].idxmax()\n",
    "drgCtByStateRN.reset_index().loc[idx,].sort_values(\"provider_state\")"
   ]
  },
  {
   "cell_type": "markdown",
   "metadata": {},
   "source": [
    "# Method 02\n",
    "## With Duplicates"
   ]
  },
  {
   "cell_type": "code",
   "execution_count": null,
   "metadata": {},
   "outputs": [],
   "source": [
    "resultGB = results_df.groupby([\"provider_state\",\"drg_definition\"])\n",
    "drgCtByState = pd.DataFrame(resultGB[\"provider_id\"].count())\n",
    "drgCtByState.rename(columns = {\"provider_id\": \"Provider Count\"}, inplace = True)\n",
    "drgCtByState[\"Rank\"]= drgCtByState[\"Provider Count\"].rank(method='max')\n",
    "drgCtByStateRN = drgCtByState.sort_values(by=\"Rank\", ascending = False)\n",
    "drgCtByStateRNnoMax = drgCtByStateRN.reset_index()\n",
    "\n",
    "#drgCtByStateRNnoMax\n",
    "drgCtByStateRNMaxreset = drgCtByStateRN.groupby([\"provider_state\"]).max().reset_index()\n",
    "drgCTByStateRNJOIN = pd.merge(drgCtByStateRNMaxreset, drgCtByStateRNnoMax, on=[\"provider_state\", \"Provider Count\", \"Rank\"])\n",
    "drgCTByStateRNJOIN"
   ]
  },
  {
   "cell_type": "code",
   "execution_count": null,
   "metadata": {
    "scrolled": true
   },
   "outputs": [],
   "source": [
    "resultsSVdd = results_df[[\"provider_state\",\"drg_definition\"]].groupby([\"provider_state\",\"drg_definition\"])\n",
    "resultsSVdd = pd.DataFrame(resultsSVdd[\"drg_definition\"].count())\n",
    "resultsSVdd = resultsSVdd.sort_values(by=\"drg_definition\", ascending = False)\n",
    "resultsSVdd = resultsSVdd.rename(columns={\"drg_definition\":\"drg_definition_count\"})\n",
    "resultsSVdd = resultsSVdd.reset_index()\n",
    "#resultsSVdd = resultsSVdd.reset_index(0)\n",
    "resultsSVdd\n",
    "# print(resultsSVdd.groupby(\"provider_state\").groups)"
   ]
  },
  {
   "cell_type": "code",
   "execution_count": null,
   "metadata": {
    "scrolled": true
   },
   "outputs": [],
   "source": [
    "resultsSVdd.sort_values(by=[\"provider_state\",\"drg_definition_count\"])"
   ]
  },
  {
   "cell_type": "code",
   "execution_count": null,
   "metadata": {
    "scrolled": true
   },
   "outputs": [],
   "source": [
    "resultsSVdd = results_df[[\"provider_state\",\"drg_definition\"]].groupby([\"provider_state\",\"drg_definition\"])\n",
    "resultsSVdd = pd.DataFrame(resultsSVdd[\"drg_definition\"].count())\n",
    "resultsSVdd = resultsSVdd.sort_values(by=\"drg_definition\", ascending = False)\n",
    "resultsSVdd\n",
    "# resultsSVdd = resultsSVdd.reset_index()\n",
    "# resultsSVdd.to_csv(\"resultsSVdd.csv\")"
   ]
  },
  {
   "cell_type": "code",
   "execution_count": null,
   "metadata": {},
   "outputs": [],
   "source": [
    "resultsSVdd[resultsSVdd[\"drg_definition\"].isin([273,255])]"
   ]
  },
  {
   "cell_type": "code",
   "execution_count": null,
   "metadata": {},
   "outputs": [],
   "source": []
  },
  {
   "cell_type": "markdown",
   "metadata": {},
   "source": [
    "# Split Data into Groups"
   ]
  },
  {
   "cell_type": "code",
   "execution_count": null,
   "metadata": {},
   "outputs": [],
   "source": [
    "import pandas as pd\n",
    "\n",
    "ipl_data = {'Team': ['Riders', 'Riders', 'Devils', 'Devils', 'Kings',\n",
    "         'kings', 'Kings', 'Kings', 'Riders', 'Royals', 'Royals', 'Riders'],\n",
    "         'Rank': [1, 2, 2, 3, 3,4 ,1 ,1,2 , 4,1,2],\n",
    "         'Year': [2014,2015,2014,2015,2014,2015,2016,2017,2016,2014,2015,2017],\n",
    "         'Points':[876,789,863,673,741,812,756,788,694,701,804,690]}\n",
    "df = pd.DataFrame(ipl_data)\n",
    "\n",
    "print(df)"
   ]
  },
  {
   "cell_type": "code",
   "execution_count": null,
   "metadata": {},
   "outputs": [],
   "source": [
    "ipl_data = {'Team': ['Riders', 'Riders', 'Devils', 'Devils', 'Kings',\n",
    "         'kings', 'Kings', 'Kings', 'Riders', 'Royals', 'Royals', 'Riders'],\n",
    "         'Rank': [1, 2, 2, 3, 3,4 ,1 ,1,2 , 4,1,2],\n",
    "         'Year': [2014,2015,2014,2015,2014,2015,2016,2017,2016,2014,2015,2017],\n",
    "         'Points':[876,789,863,673,741,812,756,788,694,701,804,690]}\n",
    "df = pd.DataFrame(ipl_data)\n",
    "\n",
    "print(df.groupby('Team').groups)"
   ]
  },
  {
   "cell_type": "code",
   "execution_count": null,
   "metadata": {},
   "outputs": [],
   "source": [
    "import pandas as pd\n",
    "\n",
    "ipl_data = {'Team': ['Riders', 'Riders', 'Devils', 'Devils', 'Kings',\n",
    "         'kings', 'Kings', 'Kings', 'Riders', 'Royals', 'Royals', 'Riders'],\n",
    "         'Rank': [1, 2, 2, 3, 3,4 ,1 ,1,2 , 4,1,2],\n",
    "         'Year': [2014,2015,2014,2015,2014,2015,2016,2017,2016,2014,2015,2017],\n",
    "         'Points':[876,789,863,673,741,812,756,788,694,701,804,690]}\n",
    "df = pd.DataFrame(ipl_data)\n",
    "\n",
    "grouped = df.groupby('Year')\n",
    "\n",
    "for name,group in grouped:\n",
    "    print (name)\n",
    "    print (group)"
   ]
  },
  {
   "cell_type": "code",
   "execution_count": null,
   "metadata": {},
   "outputs": [],
   "source": []
  }
 ],
 "metadata": {
  "kernelspec": {
   "display_name": "Python [default]",
   "language": "python",
   "name": "python3"
  },
  "language_info": {
   "codemirror_mode": {
    "name": "ipython",
    "version": 3
   },
   "file_extension": ".py",
   "mimetype": "text/x-python",
   "name": "python",
   "nbconvert_exporter": "python",
   "pygments_lexer": "ipython3",
   "version": "3.7.0"
  }
 },
 "nbformat": 4,
 "nbformat_minor": 2
}
